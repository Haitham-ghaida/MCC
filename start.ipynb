{
 "cells": [
  {
   "cell_type": "code",
   "execution_count": 1,
   "metadata": {},
   "outputs": [],
   "source": [
    "import premise as ps"
   ]
  },
  {
   "cell_type": "code",
   "execution_count": 2,
   "metadata": {},
   "outputs": [],
   "source": [
    "import bw2io as bi\n",
    "import bw2data as bd"
   ]
  },
  {
   "cell_type": "code",
   "execution_count": 3,
   "metadata": {},
   "outputs": [],
   "source": [
    "bd.projects.set_current('MCC')"
   ]
  },
  {
   "cell_type": "code",
   "execution_count": 4,
   "metadata": {},
   "outputs": [
    {
     "name": "stdout",
     "output_type": "stream",
     "text": [
      "Biosphere database already present!!! No setup is needed\n"
     ]
    }
   ],
   "source": [
    "bi.bw2setup()"
   ]
  },
  {
   "cell_type": "code",
   "execution_count": 5,
   "metadata": {},
   "outputs": [
    {
     "name": "stdout",
     "output_type": "stream",
     "text": [
      "Database has already been imported\n"
     ]
    }
   ],
   "source": [
    "ei391cdir = \"/home/haithamth/Documents/ecoinvent/ecoin_cuttoff_391/ecoinvent 3.9.1_cutoff_ecoSpold02/datasets\"\n",
    "data_base_name = \"ecoinvent-3.9.1-cuttoff\"\n",
    "if data_base_name in bd.databases:\n",
    "    print(\"Database has already been imported\")\n",
    "else:\n",
    "    ei391c = bi.SingleOutputEcospold2Importer(ei391cdir, data_base_name)\n",
    "    ei391c.apply_strategies()\n",
    "    ei391c.statistics()\n",
    "\n",
    "    #ei39.drop_unlinked(True)\n",
    "    ei391c.write_database()"
   ]
  },
  {
   "cell_type": "code",
   "execution_count": 6,
   "metadata": {},
   "outputs": [],
   "source": [
    "from premise import NewDatabase"
   ]
  },
  {
   "cell_type": "code",
   "execution_count": 7,
   "metadata": {},
   "outputs": [],
   "source": [
    "# ndb = NewDatabase(\n",
    "#     scenarios=[\n",
    "#         {\"model\":\"image\", \"pathway\":\"SSP2-RCP19\", \"year\":2020},\n",
    "#         {\"model\":\"image\", \"pathway\":\"SSP2-RCP26\", \"year\":2020},\n",
    "#         {\"model\":\"image\", \"pathway\":\"SSP2-RCP19\", \"year\":2030},\n",
    "#         {\"model\":\"image\", \"pathway\":\"SSP2-RCP26\", \"year\":2030},\n",
    "#         {\"model\":\"image\", \"pathway\":\"SSP2-RCP19\", \"year\":2040},\n",
    "#         {\"model\":\"image\", \"pathway\":\"SSP2-RCP26\", \"year\":2040},\n",
    "#     ],\n",
    "#     source_db=\"ecoinvent-3.9.1-cuttoff\", # <-- name of the database in the BW2 project. Must be a string.\n",
    "#     source_version=\"3.9.1\", # <-- version of ecoinvent. Can be \"3.5\", \"3.6\", \"3.7\" or \"3.8\". Must be a string.\n",
    "#     key='tUePmX_S5B8ieZkkM7WUU2CnO8SmShwmAeWK9x2rTFo=', # <-- decryption key\n",
    "#     # to be requested from the library maintainers if you want ot use default scenarios included in `premise`\n",
    "#     use_multiprocessing=True # <-- set to True if you want to use multiprocessing\n",
    "# )"
   ]
  },
  {
   "cell_type": "code",
   "execution_count": 8,
   "metadata": {},
   "outputs": [],
   "source": [
    "# ndb.update_electricity()"
   ]
  },
  {
   "cell_type": "code",
   "execution_count": 9,
   "metadata": {},
   "outputs": [],
   "source": [
    "# ndb.write_db_to_brightway([\"SSP2-RCP19_2020\",\"SSP2-RCP26_2020\", \"SSP2-RCP19_2030\",\"SSP2-RCP26_2030\", \"SSP2-RCP19_2040\",\"SSP2-RCP26_2040\"])"
   ]
  },
  {
   "cell_type": "code",
   "execution_count": 10,
   "metadata": {},
   "outputs": [],
   "source": [
    "ecn = bd.Database(\"ecoinvent-3.9.1-cuttoff\")"
   ]
  },
  {
   "cell_type": "code",
   "execution_count": 11,
   "metadata": {},
   "outputs": [
    {
     "data": {
      "text/plain": [
       "('ecoinvent-3.9.1-cuttoff', 'd872e0d78319cb13e12b96de83e19dd7')"
      ]
     },
     "execution_count": 11,
     "metadata": {},
     "output_type": "execute_result"
    }
   ],
   "source": [
    "ecn.search('steel unalloyed')[0].key"
   ]
  },
  {
   "cell_type": "code",
   "execution_count": 12,
   "metadata": {},
   "outputs": [],
   "source": [
    "import uuid\n",
    "class Product:\n",
    "    '''This class represents a product in the system, it should take care of the following:\n",
    "    - Create a unique id for each product\n",
    "    - Create a unique serial number for each product\n",
    "    - Keep track of the product's service life\n",
    "    '''\n",
    "    instances = []\n",
    "    def __init__(self, name: str, amount: float | int, unit: str, service_life: int, production_lci: tuple[str,str]):\n",
    "        # randomly generated id\n",
    "        self.id = uuid.uuid4().hex\n",
    "        self.name = name\n",
    "        self.amount = amount\n",
    "        self.unit = unit\n",
    "        self.production_lci = production_lci\n",
    "        self.service_life = service_life\n",
    "        self.instances.append(self)\n",
    "\n",
    "    def __repr__(self):\n",
    "        return f\"{(self.name, self.id)}\"\n",
    "    \n",
    "    def replacement_sn(self):\n",
    "        ..."
   ]
  },
  {
   "cell_type": "code",
   "execution_count": 13,
   "metadata": {},
   "outputs": [],
   "source": [
    "p = Product(name='steel_beam', amount=1, unit='kg', service_life=20, production_lci=('ecoinvent-3.9.1-cuttoff', 'd872e0d78319cb13e12b96de83e19dd7'))"
   ]
  },
  {
   "cell_type": "code",
   "execution_count": 14,
   "metadata": {},
   "outputs": [],
   "source": [
    "p2 = Product(name='steel_beam2', amount=2, unit='kg', service_life=5, production_lci=('ecoinvent-3.9.1-cuttoff', 'd872e0d78319cb13e12b96de83e19dd7'))"
   ]
  },
  {
   "cell_type": "code",
   "execution_count": 15,
   "metadata": {},
   "outputs": [],
   "source": [
    "class Mfa:\n",
    "    '''\n",
    "    This class represents a material flow analysis, it should take care of the following:\n",
    "    - Create a time line for the analysis\n",
    "    - Create a list of points in time where replacements occur\n",
    "    '''\n",
    "    def __init__(self, start: int = 2020, end: int = 2080, time_step: int = 10):\n",
    "        self.start = start\n",
    "        self.end = end\n",
    "        self.time_step = time_step\n",
    "        self.time_line = list(range(self.start, self.end+1, self.time_step))\n",
    "        self.points = []\n",
    "        self.impacts = {}\n",
    "    \n",
    "    def add_points(self, product: Product):\n",
    "        first_repl = product.service_life + self.start\n",
    "        \n",
    "        for i in range(first_repl, self.end+1, product.service_life):\n",
    "            self.points.append((i, product))\n",
    "        # clean duplicates\n",
    "        self.points = list(set(self.points))\n",
    "        # sort by year\n",
    "        self.points = sorted(self.points, key=lambda x: x[0])\n",
    "        return self.points"
   ]
  },
  {
   "cell_type": "code",
   "execution_count": 16,
   "metadata": {},
   "outputs": [],
   "source": [
    "tl = Mfa(start=2020, end=2050)"
   ]
  },
  {
   "cell_type": "code",
   "execution_count": 17,
   "metadata": {},
   "outputs": [
    {
     "data": {
      "text/plain": [
       "[(2040, ('steel_beam', '20579dc1926b492ab9c110434b00deda'))]"
      ]
     },
     "execution_count": 17,
     "metadata": {},
     "output_type": "execute_result"
    }
   ],
   "source": [
    "tl.add_points(p)"
   ]
  },
  {
   "cell_type": "code",
   "execution_count": 18,
   "metadata": {},
   "outputs": [
    {
     "data": {
      "text/plain": [
       "[(2025, ('steel_beam2', '398ce967a2a54e0fa75ce41ba91800f8')),\n",
       " (2030, ('steel_beam2', '398ce967a2a54e0fa75ce41ba91800f8')),\n",
       " (2035, ('steel_beam2', '398ce967a2a54e0fa75ce41ba91800f8')),\n",
       " (2040, ('steel_beam2', '398ce967a2a54e0fa75ce41ba91800f8')),\n",
       " (2040, ('steel_beam', '20579dc1926b492ab9c110434b00deda')),\n",
       " (2045, ('steel_beam2', '398ce967a2a54e0fa75ce41ba91800f8')),\n",
       " (2050, ('steel_beam2', '398ce967a2a54e0fa75ce41ba91800f8'))]"
      ]
     },
     "execution_count": 18,
     "metadata": {},
     "output_type": "execute_result"
    }
   ],
   "source": [
    "tl.add_points(p2)"
   ]
  },
  {
   "cell_type": "code",
   "execution_count": 19,
   "metadata": {},
   "outputs": [
    {
     "data": {
      "text/plain": [
       "[(2025, ('steel_beam2', '398ce967a2a54e0fa75ce41ba91800f8')),\n",
       " (2030, ('steel_beam2', '398ce967a2a54e0fa75ce41ba91800f8')),\n",
       " (2035, ('steel_beam2', '398ce967a2a54e0fa75ce41ba91800f8')),\n",
       " (2040, ('steel_beam2', '398ce967a2a54e0fa75ce41ba91800f8')),\n",
       " (2040, ('steel_beam', '20579dc1926b492ab9c110434b00deda')),\n",
       " (2045, ('steel_beam2', '398ce967a2a54e0fa75ce41ba91800f8')),\n",
       " (2050, ('steel_beam2', '398ce967a2a54e0fa75ce41ba91800f8'))]"
      ]
     },
     "execution_count": 19,
     "metadata": {},
     "output_type": "execute_result"
    }
   ],
   "source": [
    "tl.points"
   ]
  },
  {
   "cell_type": "code",
   "execution_count": 75,
   "metadata": {},
   "outputs": [],
   "source": [
    "import bw2calc as bc\n",
    "class ProLCA:\n",
    "    '''\n",
    "    This class should take care of the following:\n",
    "    - Create a production lca for each product\n",
    "    - Create a time line based lca for each product\n",
    "    - Create a future lca for each product\n",
    "    - Create a future lca for the whole system\n",
    "    '''\n",
    "    def __init__(self, products: list[Product], mfa: Mfa, methods: list[tuple[str,str,str]] = [('EF v3.0 EN15804', 'climate change', 'global warming potential (GWP100)')]):\n",
    "        self.products = products\n",
    "        self.mfa = mfa\n",
    "        self.methods = methods\n",
    "        self.yearly_databases = {}\n",
    "    \n",
    "    def production_lca(self, db: bd.Database = bd.Database(\"ecoinvent-3.9.1-cuttoff\")):\n",
    "        results_dict = {}\n",
    "        for product in self.products:\n",
    "            impacts = []\n",
    "            temp_product_dict = {str(product): []}\n",
    "            results_dict.update(temp_product_dict)\n",
    "            # get the activity from the database\n",
    "            # create a functional unit\n",
    "            activity = db.get(product.production_lci)\n",
    "            amount = product.amount\n",
    "            fu = {activity: amount}\n",
    "            lca = bc.LCA(fu, self.methods[0])\n",
    "            lca.lci()\n",
    "            lca.lcia()\n",
    "            impacts.append(lca.score)\n",
    "            if len(self.methods) > 1:\n",
    "                for method in self.methods[1:]:\n",
    "                    lca.switch_method(method)\n",
    "                    lca.lcia()\n",
    "                    impacts.append(lca.score)\n",
    "                    results_dict[str(product)] = impacts\n",
    "            else:\n",
    "                results_dict[str(product)] = impacts\n",
    "        return results_dict\n",
    "    \n",
    "    def repl_lca(self):\n",
    "        # replacement lcas\n",
    "        # get the timeline\n",
    "        time_line = self.time_line.points\n",
    "    \n",
    "    def database_chooser(self, year):\n",
    "        available_years = self.yearly_databases.keys()\n",
    "        # make sure that the function that create_time_line_dict is called before this function and a dictionary of yearly databases is created\n",
    "        assert len(available_years) > 0, \"Please create a dictionary of yearly databases first\"\n",
    "        \n",
    "        if year in available_years:\n",
    "            return self.yearly_databases[year]\n",
    "        elif year < min(available_years):\n",
    "            return self.yearly_databases[min(available_years)]\n",
    "        elif year > max(available_years):\n",
    "            return self.yearly_databases[max(available_years)]\n",
    "        else:\n",
    "            # round down to the nearest year\n",
    "            return self.yearly_databases[year - (year % 10)]\n",
    "        \n",
    "            # for y in available_years:\n",
    "            #     if y > year:\n",
    "            #         return self.yearly_databases[y]\n",
    "          \n",
    "    \n",
    "    # def time_line_based_lca(self):\n",
    "    #     results_dict = {}\n",
    "    #     for point in self.mfa.points:\n",
    "    #         for product in self.products:\n",
    "    #             impacts = []\n",
    "    #             if point[1] == product:\n",
    "    #                 dbs = self.database_chooser(year=point[0])\n",
    "    #                 for db in dbs:\n",
    "    #                     fetched_db = bd.Database(str(db))\n",
    "    #                     results_dict[str(point[0]) + \"_\" + str(product) + \"_\" + str(db)] = []\n",
    "                        \n",
    "\n",
    "    #                     activity = fetched_db.get(product.production_lci[1])\n",
    "\n",
    "    #                     amount = product.amount\n",
    "    #                     fu = {activity: amount}\n",
    "                        \n",
    "    #                     lca = bc.LCA(fu, self.methods[0])\n",
    "                        \n",
    "    #                     lca.lci()\n",
    "    #                     lca.lcia()\n",
    "                        \n",
    "    #                     if len(self.methods) > 1:\n",
    "                            \n",
    "    #                         for method in self.methods[1:]:\n",
    "    #                             lca.switch_method(method)\n",
    "    #                             lca.lcia()\n",
    "    #                             impacts.append(lca.score)\n",
    "    #                             results_dict[str(point[0]) + \"_\" + str(product) + \"_\" + str(db)] = impacts\n",
    "                                \n",
    "    #                     else:\n",
    "    #                         impacts = [lca.score]\n",
    "    #                         results_dict[str(point[0]) + \"_\" + str(product) + \"_\" + str(db)] = impacts\n",
    "                        \n",
    "    #     return results_dict\n",
    "    \n",
    "    \n",
    "    def time_line_based_lca(self):\n",
    "        results_dict = {}\n",
    "        for point in self.mfa.points:\n",
    "            for product in self.products:\n",
    "                # Check if the second element in `point` equals `product`\n",
    "                if point[1] == product:\n",
    "                    # Choose the appropriate database(s) based on the year\n",
    "                    dbs = self.database_chooser(year=point[0])\n",
    "                    \n",
    "                    # Iterate through all chosen databases\n",
    "                    for db in dbs:\n",
    "                        # Construct a unique key for storing results\n",
    "                        result_key = f\"{point[0]}_{product}_{db}\"\n",
    "                        # Ensure fetched_db returns the expected database\n",
    "                        fetched_db = bd.Database(str(db))\n",
    "                        \n",
    "                        # Ensure this returns the expected activity\n",
    "                        activity = fetched_db.get(product.production_lci[1])\n",
    "                        \n",
    "                        # Define the functional unit for the LCA\n",
    "                        amount = product.amount\n",
    "                        fu = {activity: amount}\n",
    "                        \n",
    "                        # Initialize the LCA with the first method and calculate impacts\n",
    "                        lca = bc.LCA(fu, self.methods[0])\n",
    "                        lca.lci()\n",
    "                        lca.lcia()\n",
    "                        \n",
    "                        # Initialize a list to store impact scores for all methods\n",
    "                        impacts = [lca.score]\n",
    "                        \n",
    "                        # If there are additional methods, switch methods and calculate additional impacts\n",
    "                        if len(self.methods) > 1:    \n",
    "                            for method in self.methods[1:]:\n",
    "                                lca.switch_method(method)\n",
    "                                lca.lcia()\n",
    "                                impacts.append(lca.score)\n",
    "                        \n",
    "                        # Store all calculated impacts in the results dictionary\n",
    "                        results_dict[result_key] = impacts\n",
    "        \n",
    "        return results_dict\n",
    "\n",
    "                    \n",
    "    def create_time_line_dict(self):\n",
    "        yearly_databases = {}\n",
    "        for year in tl.time_line:\n",
    "            yearly_databases[year] = []\n",
    "        for db in bd.databases:\n",
    "            db_processed = str(db).split(\"_\")\n",
    "            if db_processed[0] == 'ecoinvent-3.9.1-cuttoff':\n",
    "                ecoinvent = db\n",
    "            elif len(db_processed) > 1:\n",
    "                yearly_databases[int(db_processed[1])].append(db)\n",
    "        self.yearly_databases = yearly_databases\n",
    "        "
   ]
  },
  {
   "cell_type": "code",
   "execution_count": 76,
   "metadata": {},
   "outputs": [],
   "source": [
    "lca = ProLCA(products=[p, p2], mfa=tl, methods=[('EF v3.0 EN15804', 'acidification', 'accumulated exceedance (AE)'),\n",
    " ('EF v3.0 EN15804', 'climate change', 'global warming potential (GWP100)')])"
   ]
  },
  {
   "cell_type": "code",
   "execution_count": null,
   "metadata": {},
   "outputs": [],
   "source": [
    "#jjj"
   ]
  },
  {
   "cell_type": "code",
   "execution_count": 77,
   "metadata": {},
   "outputs": [],
   "source": [
    "lca.create_time_line_dict()"
   ]
  },
  {
   "cell_type": "code",
   "execution_count": 78,
   "metadata": {},
   "outputs": [
    {
     "data": {
      "text/plain": [
       "{\"2025_('steel_beam2', '398ce967a2a54e0fa75ce41ba91800f8')_SSP2-RCP19_2020\": [0.013595427150702041,\n",
       "  3.754028157400075],\n",
       " \"2025_('steel_beam2', '398ce967a2a54e0fa75ce41ba91800f8')_SSP2-RCP26_2020\": [0.01359542716367803,\n",
       "  3.7540281581736594],\n",
       " \"2030_('steel_beam2', '398ce967a2a54e0fa75ce41ba91800f8')_SSP2-RCP19_2030\": [0.012321920894703289,\n",
       "  3.409380364928732],\n",
       " \"2030_('steel_beam2', '398ce967a2a54e0fa75ce41ba91800f8')_SSP2-RCP26_2030\": [0.013263918767324615,\n",
       "  3.6783845363499763],\n",
       " \"2035_('steel_beam2', '398ce967a2a54e0fa75ce41ba91800f8')_SSP2-RCP19_2030\": [0.012321920894703289,\n",
       "  3.409380364928732],\n",
       " \"2035_('steel_beam2', '398ce967a2a54e0fa75ce41ba91800f8')_SSP2-RCP26_2030\": [0.013263918767324615,\n",
       "  3.6783845363499763],\n",
       " \"2040_('steel_beam2', '398ce967a2a54e0fa75ce41ba91800f8')_SSP2-RCP19_2040\": [0.011980899605036212,\n",
       "  3.328349634396882],\n",
       " \"2040_('steel_beam2', '398ce967a2a54e0fa75ce41ba91800f8')_SSP2-RCP26_2040\": [0.012513544960288957,\n",
       "  3.5479421845669474],\n",
       " \"2040_('steel_beam', '20579dc1926b492ab9c110434b00deda')_SSP2-RCP19_2040\": [0.005990449802518106,\n",
       "  1.664174817198441],\n",
       " \"2040_('steel_beam', '20579dc1926b492ab9c110434b00deda')_SSP2-RCP26_2040\": [0.006256772480144479,\n",
       "  1.7739710922834737],\n",
       " \"2045_('steel_beam2', '398ce967a2a54e0fa75ce41ba91800f8')_SSP2-RCP19_2040\": [0.011980899605036212,\n",
       "  3.328349634396882],\n",
       " \"2045_('steel_beam2', '398ce967a2a54e0fa75ce41ba91800f8')_SSP2-RCP26_2040\": [0.012513544960288957,\n",
       "  3.5479421845669474]}"
      ]
     },
     "execution_count": 78,
     "metadata": {},
     "output_type": "execute_result"
    }
   ],
   "source": [
    "lca.time_line_based_lca()"
   ]
  },
  {
   "cell_type": "code",
   "execution_count": 53,
   "metadata": {},
   "outputs": [
    {
     "data": {
      "text/plain": [
       "[(2025, ('steel_beam2', '398ce967a2a54e0fa75ce41ba91800f8')),\n",
       " (2030, ('steel_beam2', '398ce967a2a54e0fa75ce41ba91800f8')),\n",
       " (2035, ('steel_beam2', '398ce967a2a54e0fa75ce41ba91800f8')),\n",
       " (2040, ('steel_beam2', '398ce967a2a54e0fa75ce41ba91800f8')),\n",
       " (2040, ('steel_beam', '20579dc1926b492ab9c110434b00deda')),\n",
       " (2045, ('steel_beam2', '398ce967a2a54e0fa75ce41ba91800f8')),\n",
       " (2050, ('steel_beam2', '398ce967a2a54e0fa75ce41ba91800f8'))]"
      ]
     },
     "execution_count": 53,
     "metadata": {},
     "output_type": "execute_result"
    }
   ],
   "source": [
    "tl.points"
   ]
  },
  {
   "cell_type": "code",
   "execution_count": null,
   "metadata": {},
   "outputs": [
    {
     "name": "stdout",
     "output_type": "stream",
     "text": [
      "('steel_beam', '126a254a6e534689b127bbdef01d14b5')\n",
      "('steel_beam2', '1b399e7abe7e440fb86f1e6169c9cbed')\n",
      "('steel_beam', '126a254a6e534689b127bbdef01d14b5')\n",
      "('steel_beam', '126a254a6e534689b127bbdef01d14b5')\n"
     ]
    }
   ],
   "source": [
    "for p in tl.points:\n",
    "    print(p[1])"
   ]
  },
  {
   "cell_type": "code",
   "execution_count": null,
   "metadata": {},
   "outputs": [],
   "source": [
    "lca = ProLCA(products=[p, p2], mfa=tl, methods=[('EF v3.0 EN15804', 'acidification', 'accumulated exceedance (AE)'),\n",
    " ('EF v3.0 EN15804', 'climate change', 'global warming potential (GWP100)')])"
   ]
  },
  {
   "cell_type": "code",
   "execution_count": null,
   "metadata": {},
   "outputs": [
    {
     "ename": "TypeError",
     "evalue": "ProLCA.database_chooser() takes 1 positional argument but 2 were given",
     "output_type": "error",
     "traceback": [
      "\u001b[0;31m---------------------------------------------------------------------------\u001b[0m",
      "\u001b[0;31mTypeError\u001b[0m                                 Traceback (most recent call last)",
      "\u001b[1;32m/home/haithamth/Desktop/code/MCC/start.ipynb Cell 24\u001b[0m line \u001b[0;36m1\n\u001b[0;32m----> <a href='vscode-notebook-cell:/home/haithamth/Desktop/code/MCC/start.ipynb#X56sZmlsZQ%3D%3D?line=0'>1</a>\u001b[0m lca\u001b[39m.\u001b[39;49mdatabase_chooser(\u001b[39m2020\u001b[39;49m)\n",
      "\u001b[0;31mTypeError\u001b[0m: ProLCA.database_chooser() takes 1 positional argument but 2 were given"
     ]
    }
   ],
   "source": [
    "lca.database_chooser(2020)"
   ]
  },
  {
   "cell_type": "code",
   "execution_count": null,
   "metadata": {},
   "outputs": [
    {
     "data": {
      "text/plain": [
       "{\"('steel_beam', '126a254a6e534689b127bbdef01d14b5')\": [0.007053131262017521,\n",
       "  1.8778845564475808],\n",
       " \"('steel_beam2', '1b399e7abe7e440fb86f1e6169c9cbed')\": [0.014106262524035042,\n",
       "  3.7557691128951616]}"
      ]
     },
     "execution_count": 52,
     "metadata": {},
     "output_type": "execute_result"
    }
   ],
   "source": [
    "ProLCA(products=[p, p2], mfa=tl, methods=[('EF v3.0 EN15804', 'acidification', 'accumulated exceedance (AE)'),\n",
    " ('EF v3.0 EN15804', 'climate change', 'global warming potential (GWP100)')]).production_lca()"
   ]
  },
  {
   "cell_type": "code",
   "execution_count": null,
   "metadata": {},
   "outputs": [
    {
     "name": "stdout",
     "output_type": "stream",
     "text": [
      "2040 <class 'tuple'>\n",
      "2053 <class 'tuple'>\n",
      "2060 <class 'tuple'>\n",
      "2080 <class 'tuple'>\n"
     ]
    }
   ],
   "source": [
    "ProLCA(products=[p, p2], mfa=tl, methods=[('EF v3.0 EN15804', 'acidification', 'accumulated exceedance (AE)'),\n",
    " ('EF v3.0 EN15804', 'climate change', 'global warming potential (GWP100)')]).time_line_based_lca()"
   ]
  },
  {
   "cell_type": "code",
   "execution_count": null,
   "metadata": {},
   "outputs": [],
   "source": [
    "lca = ProLCA(product=p, time_line=tl, methods=[('EF v3.0 EN15804', 'acidification', 'accumulated exceedance (AE)'),\n",
    " ('EF v3.0 EN15804', 'climate change', 'global warming potential (GWP100)')])"
   ]
  },
  {
   "cell_type": "code",
   "execution_count": null,
   "metadata": {},
   "outputs": [
    {
     "data": {
      "text/plain": [
       "[(2040, ('steel_beam', '126a254a6e534689b127bbdef01d14b5')),\n",
       " (2053, ('steel_beam2', '1b399e7abe7e440fb86f1e6169c9cbed')),\n",
       " (2060, ('steel_beam', '126a254a6e534689b127bbdef01d14b5')),\n",
       " (2080, ('steel_beam', '126a254a6e534689b127bbdef01d14b5'))]"
      ]
     },
     "execution_count": 40,
     "metadata": {},
     "output_type": "execute_result"
    }
   ],
   "source": [
    "lca.time_line.points"
   ]
  },
  {
   "cell_type": "code",
   "execution_count": null,
   "metadata": {},
   "outputs": [],
   "source": [
    "def db_chooser(year: int):\n",
    "    # choose the database based on the year\n",
    "    if year < 2030:\n",
    "        return \"SSP2-RCP19_2020\"\n",
    "    elif year < 2040:\n",
    "        return \"SSP2-RCP19_2030\""
   ]
  },
  {
   "cell_type": "code",
   "execution_count": null,
   "metadata": {},
   "outputs": [],
   "source": [
    "import premise"
   ]
  },
  {
   "cell_type": "code",
   "execution_count": null,
   "metadata": {},
   "outputs": [],
   "source": [
    "def activity_mapper(activity):\n",
    "    ..."
   ]
  },
  {
   "cell_type": "code",
   "execution_count": null,
   "metadata": {},
   "outputs": [],
   "source": [
    "db1 = bd.Database(\"SSP2-RCP19_2020\")\n",
    "db2 = bd.Database(\"SSP2-RCP19_2030\")\n",
    "db_eco = bd.Database(\"ecoinvent-3.9.1-cuttoff\")"
   ]
  },
  {
   "cell_type": "code",
   "execution_count": null,
   "metadata": {},
   "outputs": [],
   "source": [
    "stl1= db_eco.get(\"d872e0d78319cb13e12b96de83e19dd7\")"
   ]
  },
  {
   "cell_type": "code",
   "execution_count": null,
   "metadata": {},
   "outputs": [],
   "source": [
    "stl2 = db2.get(\"d872e0d78319cb13e12b96de83e19dd7\")"
   ]
  },
  {
   "cell_type": "code",
   "execution_count": null,
   "metadata": {},
   "outputs": [
    {
     "data": {
      "text/plain": [
       "0.1731943739832147"
      ]
     },
     "execution_count": 46,
     "metadata": {},
     "output_type": "execute_result"
    }
   ],
   "source": [
    "# run lca on stl1 and stl2\n",
    "methd = ('EF v3.0 EN15804', 'climate change', 'global warming potential (GWP100)')\n",
    "\n",
    "stl1_lca = bc.LCA({stl1: 1}, methd)\n",
    "\n",
    "stl1_lca.lci()\n",
    "\n",
    "stl1_lca.lcia()\n",
    "\n",
    "stl1_lca.score\n",
    "\n",
    "stl2_lca = bc.LCA({stl2: 1}, methd)\n",
    "\n",
    "stl2_lca.lci()\n",
    "\n",
    "stl2_lca.lcia()\n",
    "\n",
    "stl2_lca.score\n",
    "\n",
    "stl1_lca.score - stl2_lca.score\n"
   ]
  },
  {
   "cell_type": "code",
   "execution_count": null,
   "metadata": {},
   "outputs": [
    {
     "data": {
      "text/plain": [
       "[('EF v3.0 EN15804', 'acidification', 'accumulated exceedance (AE)'),\n",
       " ('EF v3.0 EN15804', 'climate change', 'global warming potential (GWP100)'),\n",
       " ('EF v3.0 EN15804',\n",
       "  'climate change: biogenic',\n",
       "  'global warming potential (GWP100)'),\n",
       " ('EF v3.0 EN15804',\n",
       "  'climate change: fossil',\n",
       "  'global warming potential (GWP100)'),\n",
       " ('EF v3.0 EN15804',\n",
       "  'climate change: land use and land use change',\n",
       "  'global warming potential (GWP100)'),\n",
       " ('EF v3.0 EN15804',\n",
       "  'ecotoxicity: freshwater',\n",
       "  'comparative toxic unit for ecosystems (CTUe)'),\n",
       " ('EF v3.0 EN15804',\n",
       "  'energy resources: non-renewable',\n",
       "  'abiotic depletion potential (ADP): fossil fuels'),\n",
       " ('EF v3.0 EN15804',\n",
       "  'eutrophication: freshwater',\n",
       "  'fraction of nutrients reaching freshwater end compartment (P)'),\n",
       " ('EF v3.0 EN15804',\n",
       "  'eutrophication: marine',\n",
       "  'fraction of nutrients reaching marine end compartment (N)'),\n",
       " ('EF v3.0 EN15804',\n",
       "  'eutrophication: terrestrial',\n",
       "  'accumulated exceedance (AE)'),\n",
       " ('EF v3.0 EN15804',\n",
       "  'human toxicity: carcinogenic',\n",
       "  'comparative toxic unit for human (CTUh)'),\n",
       " ('EF v3.0 EN15804',\n",
       "  'human toxicity: non-carcinogenic',\n",
       "  'comparative toxic unit for human (CTUh)'),\n",
       " ('EF v3.0 EN15804',\n",
       "  'ionising radiation: human health',\n",
       "  'human exposure efficiency relative to u235'),\n",
       " ('EF v3.0 EN15804', 'land use', 'soil quality index'),\n",
       " ('EF v3.0 EN15804',\n",
       "  'material resources: metals/minerals',\n",
       "  'abiotic depletion potential (ADP): elements (ultimate reserves)'),\n",
       " ('EF v3.0 EN15804', 'ozone depletion', 'ozone depletion potential (ODP)'),\n",
       " ('EF v3.0 EN15804', 'particulate matter formation', 'impact on human health'),\n",
       " ('EF v3.0 EN15804',\n",
       "  'photochemical oxidant formation: human health',\n",
       "  'tropospheric ozone concentration increase'),\n",
       " ('EF v3.0 EN15804',\n",
       "  'water use',\n",
       "  'user deprivation potential (deprivation-weighted water consumption)'),\n",
       " ('EF v3.1 EN15804', 'acidification', 'accumulated exceedance (AE)'),\n",
       " ('EF v3.1 EN15804', 'climate change', 'global warming potential (GWP100)'),\n",
       " ('EF v3.1 EN15804',\n",
       "  'climate change: biogenic',\n",
       "  'global warming potential (GWP100)'),\n",
       " ('EF v3.1 EN15804',\n",
       "  'climate change: fossil',\n",
       "  'global warming potential (GWP100)'),\n",
       " ('EF v3.1 EN15804',\n",
       "  'climate change: land use and land use change',\n",
       "  'global warming potential (GWP100)'),\n",
       " ('EF v3.1 EN15804',\n",
       "  'ecotoxicity: freshwater',\n",
       "  'comparative toxic unit for ecosystems (CTUe)'),\n",
       " ('EF v3.1 EN15804',\n",
       "  'energy resources: non-renewable',\n",
       "  'abiotic depletion potential (ADP): fossil fuels'),\n",
       " ('EF v3.1 EN15804',\n",
       "  'eutrophication: freshwater',\n",
       "  'fraction of nutrients reaching freshwater end compartment (P)'),\n",
       " ('EF v3.1 EN15804',\n",
       "  'eutrophication: marine',\n",
       "  'fraction of nutrients reaching marine end compartment (N)'),\n",
       " ('EF v3.1 EN15804',\n",
       "  'eutrophication: terrestrial',\n",
       "  'accumulated exceedance (AE)'),\n",
       " ('EF v3.1 EN15804',\n",
       "  'human toxicity: carcinogenic',\n",
       "  'comparative toxic unit for human (CTUh)'),\n",
       " ('EF v3.1 EN15804',\n",
       "  'human toxicity: non-carcinogenic',\n",
       "  'comparative toxic unit for human (CTUh)'),\n",
       " ('EF v3.1 EN15804',\n",
       "  'ionising radiation: human health',\n",
       "  'human exposure efficiency relative to u235'),\n",
       " ('EF v3.1 EN15804', 'land use', 'soil quality index'),\n",
       " ('EF v3.1 EN15804',\n",
       "  'material resources: metals/minerals',\n",
       "  'abiotic depletion potential (ADP): elements (ultimate reserves)'),\n",
       " ('EF v3.1 EN15804', 'ozone depletion', 'ozone depletion potential (ODP)'),\n",
       " ('EF v3.1 EN15804', 'particulate matter formation', 'impact on human health'),\n",
       " ('EF v3.1 EN15804',\n",
       "  'photochemical oxidant formation: human health',\n",
       "  'tropospheric ozone concentration increase'),\n",
       " ('EF v3.1 EN15804',\n",
       "  'water use',\n",
       "  'user deprivation potential (deprivation-weighted water consumption)'),\n",
       " ('EN15804', 'inventory indicators ISO21930', 'exported energy - electricity'),\n",
       " ('EN15804', 'inventory indicators ISO21930', 'exported energy - heat'),\n",
       " ('EN15804', 'inventory indicators ISO21930', 'hazardous waste disposed'),\n",
       " ('EN15804',\n",
       "  'inventory indicators ISO21930',\n",
       "  'high-level radioactive waste disposed'),\n",
       " ('EN15804',\n",
       "  'inventory indicators ISO21930',\n",
       "  'intermediate and low-level radioactive waste disposed'),\n",
       " ('EN15804', 'inventory indicators ISO21930', 'materials for energy recovery'),\n",
       " ('EN15804', 'inventory indicators ISO21930', 'materials for recycling'),\n",
       " ('EN15804', 'inventory indicators ISO21930', 'non-hazardous waste disposed'),\n",
       " ('EN15804', 'inventory indicators ISO21930', 'recovered energy'),\n",
       " ('EN15804', 'inventory indicators ISO21930', 'use of net fresh water'),\n",
       " ('EN15804',\n",
       "  'inventory indicators ISO21930',\n",
       "  'use of renewable secondary fuels'),\n",
       " ('EN15804', 'inventory indicators ISO21930', 'use of secondary material'),\n",
       " ('EN15804',\n",
       "  'inventory indicators ISO21930',\n",
       "  'Cumulative Energy Demand - renewable energy resources'),\n",
       " ('EN15804',\n",
       "  'inventory indicators ISO21930',\n",
       "  'Cumulative Energy Demand - non-renewable energy resources')]"
      ]
     },
     "execution_count": 24,
     "metadata": {},
     "output_type": "execute_result"
    }
   ],
   "source": [
    "[a for a in bd.methods if 'EN' in a[0]]"
   ]
  }
 ],
 "metadata": {
  "kernelspec": {
   "display_name": "polca",
   "language": "python",
   "name": "python3"
  },
  "language_info": {
   "codemirror_mode": {
    "name": "ipython",
    "version": 3
   },
   "file_extension": ".py",
   "mimetype": "text/x-python",
   "name": "python",
   "nbconvert_exporter": "python",
   "pygments_lexer": "ipython3",
   "version": "3.10.12"
  }
 },
 "nbformat": 4,
 "nbformat_minor": 2
}
