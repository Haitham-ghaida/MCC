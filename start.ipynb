{
 "cells": [
  {
   "cell_type": "code",
   "execution_count": 1,
   "metadata": {},
   "outputs": [],
   "source": [
    "import premise as ps"
   ]
  },
  {
   "cell_type": "code",
   "execution_count": 2,
   "metadata": {},
   "outputs": [],
   "source": [
    "import bw2io as bi\n",
    "import bw2data as bd"
   ]
  },
  {
   "cell_type": "code",
   "execution_count": 3,
   "metadata": {},
   "outputs": [],
   "source": [
    "bd.projects.set_current('MCC')"
   ]
  },
  {
   "cell_type": "code",
   "execution_count": 4,
   "metadata": {},
   "outputs": [
    {
     "name": "stdout",
     "output_type": "stream",
     "text": [
      "Biosphere database already present!!! No setup is needed\n"
     ]
    }
   ],
   "source": [
    "bi.bw2setup()"
   ]
  },
  {
   "cell_type": "code",
   "execution_count": 5,
   "metadata": {},
   "outputs": [
    {
     "name": "stdout",
     "output_type": "stream",
     "text": [
      "Database has already been imported\n"
     ]
    }
   ],
   "source": [
    "ei391cdir = \"/home/haithamth/Documents/ecoinvent/ecoin_cuttoff_391/ecoinvent 3.9.1_cutoff_ecoSpold02/datasets\"\n",
    "data_base_name = \"ecoinvent-3.9.1-cuttoff\"\n",
    "if data_base_name in bd.databases:\n",
    "    print(\"Database has already been imported\")\n",
    "else:\n",
    "    ei391c = bi.SingleOutputEcospold2Importer(ei391cdir, data_base_name)\n",
    "    ei391c.apply_strategies()\n",
    "    ei391c.statistics()\n",
    "\n",
    "    #ei39.drop_unlinked(True)\n",
    "    ei391c.write_database()"
   ]
  },
  {
   "cell_type": "code",
   "execution_count": 6,
   "metadata": {},
   "outputs": [],
   "source": [
    "from premise import NewDatabase"
   ]
  },
  {
   "cell_type": "code",
   "execution_count": 7,
   "metadata": {},
   "outputs": [],
   "source": [
    "# ndb = NewDatabase(\n",
    "#     scenarios=[\n",
    "#         {\"model\":\"image\", \"pathway\":\"SSP2-RCP19\", \"year\":2020},\n",
    "#         {\"model\":\"image\", \"pathway\":\"SSP2-RCP26\", \"year\":2020},\n",
    "#         {\"model\":\"image\", \"pathway\":\"SSP2-RCP19\", \"year\":2030},\n",
    "#         {\"model\":\"image\", \"pathway\":\"SSP2-RCP26\", \"year\":2030},\n",
    "#         {\"model\":\"image\", \"pathway\":\"SSP2-RCP19\", \"year\":2040},\n",
    "#         {\"model\":\"image\", \"pathway\":\"SSP2-RCP26\", \"year\":2040},\n",
    "#     ],\n",
    "#     source_db=\"ecoinvent-3.9.1-cuttoff\", # <-- name of the database in the BW2 project. Must be a string.\n",
    "#     source_version=\"3.9.1\", # <-- version of ecoinvent. Can be \"3.5\", \"3.6\", \"3.7\" or \"3.8\". Must be a string.\n",
    "#     key='tUePmX_S5B8ieZkkM7WUU2CnO8SmShwmAeWK9x2rTFo=', # <-- decryption key\n",
    "#     # to be requested from the library maintainers if you want ot use default scenarios included in `premise`\n",
    "#     use_multiprocessing=True # <-- set to True if you want to use multiprocessing\n",
    "# )"
   ]
  },
  {
   "cell_type": "code",
   "execution_count": 8,
   "metadata": {},
   "outputs": [],
   "source": [
    "# ndb.update_electricity()"
   ]
  },
  {
   "cell_type": "code",
   "execution_count": 9,
   "metadata": {},
   "outputs": [],
   "source": [
    "# ndb.write_db_to_brightway([\"SSP2-RCP19_2020\",\"SSP2-RCP26_2020\", \"SSP2-RCP19_2030\",\"SSP2-RCP26_2030\", \"SSP2-RCP19_2040\",\"SSP2-RCP26_2040\"])"
   ]
  },
  {
   "cell_type": "code",
   "execution_count": 10,
   "metadata": {},
   "outputs": [],
   "source": [
    "ecn = bd.Database(\"ecoinvent-3.9.1-cuttoff\")"
   ]
  },
  {
   "cell_type": "code",
   "execution_count": 11,
   "metadata": {},
   "outputs": [
    {
     "data": {
      "text/plain": [
       "('ecoinvent-3.9.1-cuttoff', 'd872e0d78319cb13e12b96de83e19dd7')"
      ]
     },
     "execution_count": 11,
     "metadata": {},
     "output_type": "execute_result"
    }
   ],
   "source": [
    "ecn.search('steel unalloyed')[0].key"
   ]
  },
  {
   "cell_type": "code",
   "execution_count": 12,
   "metadata": {},
   "outputs": [],
   "source": [
    "import uuid\n",
    "class Product:\n",
    "    def __init__(self, name: str, amount: float | int, unit: str, service_life: int, production_lci: tuple[str,str]):\n",
    "        # randomly generated id\n",
    "        self.id = uuid.uuid4().hex\n",
    "        self.name = name\n",
    "        self.amount = amount\n",
    "        self.unit = unit\n",
    "        self.production_lci = production_lci\n",
    "        self.service_life = service_life\n",
    "        self.production_act = bd.get_activity(self.production_lci)\n",
    "\n",
    "    def __repr__(self):\n",
    "        return f\"{(self.name, self.id)}\"\n",
    "    \n",
    "    def replacement_sn(self):\n",
    "        ..."
   ]
  },
  {
   "cell_type": "code",
   "execution_count": 13,
   "metadata": {},
   "outputs": [],
   "source": [
    "p = Product(name='steel_beam', amount=1, unit='kg', service_life=20, production_lci=('ecoinvent-3.9.1-cuttoff', 'd872e0d78319cb13e12b96de83e19dd7'))"
   ]
  },
  {
   "cell_type": "code",
   "execution_count": 14,
   "metadata": {},
   "outputs": [],
   "source": [
    "p2 = Product(name='steel_beam2', amount=2, unit='kg', service_life=33, production_lci=('ecoinvent-3.9.1-cuttoff', 'd872e0d78319cb13e12b96de83e19dd7'))"
   ]
  },
  {
   "cell_type": "code",
   "execution_count": 15,
   "metadata": {},
   "outputs": [],
   "source": [
    "class Mfa:\n",
    "    def __init__(self, start: int = 2020, end: int = 2080, time_step: int = 10):\n",
    "        self.start = start\n",
    "        self.end = end\n",
    "        self.time_step = time_step\n",
    "        self.time_line = list(range(self.start, self.end+1, self.time_step))\n",
    "        self.points = []\n",
    "    \n",
    "    def add_points(self, product: Product):\n",
    "        first_repl = product.service_life + self.start\n",
    "        \n",
    "        for i in range(first_repl, self.end+1, product.service_life):\n",
    "            self.points.append((i, product))\n",
    "        # clean duplicates\n",
    "        self.points = list(set(self.points))\n",
    "        # sort by year\n",
    "        self.points = sorted(self.points, key=lambda x: x[0])\n",
    "        return self.points"
   ]
  },
  {
   "cell_type": "code",
   "execution_count": 16,
   "metadata": {},
   "outputs": [],
   "source": [
    "tl = Mfa(start=2020, end=2080)"
   ]
  },
  {
   "cell_type": "code",
   "execution_count": 17,
   "metadata": {},
   "outputs": [
    {
     "data": {
      "text/plain": [
       "[(2040, ('steel_beam', '4e130608bc004f08b07b8a62a63bc25f')),\n",
       " (2060, ('steel_beam', '4e130608bc004f08b07b8a62a63bc25f')),\n",
       " (2080, ('steel_beam', '4e130608bc004f08b07b8a62a63bc25f'))]"
      ]
     },
     "execution_count": 17,
     "metadata": {},
     "output_type": "execute_result"
    }
   ],
   "source": [
    "tl.add_points(p)"
   ]
  },
  {
   "cell_type": "code",
   "execution_count": 18,
   "metadata": {},
   "outputs": [
    {
     "data": {
      "text/plain": [
       "[(2040, ('steel_beam', '4e130608bc004f08b07b8a62a63bc25f')),\n",
       " (2053, ('steel_beam2', '121e4bd9497342d6a0073455d31add66')),\n",
       " (2060, ('steel_beam', '4e130608bc004f08b07b8a62a63bc25f')),\n",
       " (2080, ('steel_beam', '4e130608bc004f08b07b8a62a63bc25f'))]"
      ]
     },
     "execution_count": 18,
     "metadata": {},
     "output_type": "execute_result"
    }
   ],
   "source": [
    "tl.add_points(p2)"
   ]
  },
  {
   "cell_type": "code",
   "execution_count": 19,
   "metadata": {},
   "outputs": [
    {
     "data": {
      "text/plain": [
       "[(2040, ('steel_beam', '4e130608bc004f08b07b8a62a63bc25f')),\n",
       " (2053, ('steel_beam2', '121e4bd9497342d6a0073455d31add66')),\n",
       " (2060, ('steel_beam', '4e130608bc004f08b07b8a62a63bc25f')),\n",
       " (2080, ('steel_beam', '4e130608bc004f08b07b8a62a63bc25f'))]"
      ]
     },
     "execution_count": 19,
     "metadata": {},
     "output_type": "execute_result"
    }
   ],
   "source": [
    "tl.points"
   ]
  },
  {
   "cell_type": "code",
   "execution_count": 20,
   "metadata": {},
   "outputs": [],
   "source": [
    "import bw2calc as bc\n",
    "class ProLCA:\n",
    "    def __init__(self, product: Product, time_line: Mfa, method: tuple[str,str,str] = ):\n",
    "        self.product = product\n",
    "        self.time_line = time_line\n",
    "    \n",
    "    def production_lca(self):\n",
    "        # get the activity from the database\n",
    "        # create a functional unit\n",
    "        act = self.product.production_act\n",
    "        amount = self.product.amount\n",
    "        fu = {act: amount}\n",
    "        method = self.method\n",
    "        lca = bc.LCA(fu, method)\n",
    "        lca.lci()\n",
    "        lca.lcia()\n",
    "        return lca.score\n",
    "    \n",
    "    def repl_lca(self):\n",
    "        # replacement lcas\n",
    "        # get the timeline\n",
    "        time_line = self.time_line.points\n",
    "        "
   ]
  },
  {
   "cell_type": "code",
   "execution_count": 21,
   "metadata": {},
   "outputs": [],
   "source": [
    "def db_chooser(year: int):\n",
    "    # choose the database based on the year\n",
    "    if year < 2030:\n",
    "        return \"SSP2-RCP19_2020\"\n",
    "    elif year < 2040:\n",
    "        return \"SSP2-RCP19_2030\""
   ]
  },
  {
   "cell_type": "code",
   "execution_count": 24,
   "metadata": {},
   "outputs": [],
   "source": [
    "import premise"
   ]
  },
  {
   "cell_type": "code",
   "execution_count": 22,
   "metadata": {},
   "outputs": [],
   "source": [
    "def activity_mapper(activity):\n",
    "    ..."
   ]
  },
  {
   "cell_type": "code",
   "execution_count": 41,
   "metadata": {},
   "outputs": [],
   "source": [
    "db1 = bd.Database(\"SSP2-RCP19_2020\")\n",
    "db2 = bd.Database(\"SSP2-RCP19_2030\")\n",
    "db_eco = bd.Database(\"ecoinvent-3.9.1-cuttoff\")"
   ]
  },
  {
   "cell_type": "code",
   "execution_count": 42,
   "metadata": {},
   "outputs": [],
   "source": [
    "stl1= db_eco.get(\"d872e0d78319cb13e12b96de83e19dd7\")"
   ]
  },
  {
   "cell_type": "code",
   "execution_count": 43,
   "metadata": {},
   "outputs": [],
   "source": [
    "stl2 = db2.get(\"d872e0d78319cb13e12b96de83e19dd7\")"
   ]
  },
  {
   "cell_type": "code",
   "execution_count": 46,
   "metadata": {},
   "outputs": [
    {
     "data": {
      "text/plain": [
       "0.1731943739832147"
      ]
     },
     "execution_count": 46,
     "metadata": {},
     "output_type": "execute_result"
    }
   ],
   "source": [
    "# run lca on stl1 and stl2\n",
    "methd = ('EF v3.0 EN15804', 'climate change', 'global warming potential (GWP100)')\n",
    "\n",
    "stl1_lca = bc.LCA({stl1: 1}, methd)\n",
    "\n",
    "stl1_lca.lci()\n",
    "\n",
    "stl1_lca.lcia()\n",
    "\n",
    "stl1_lca.score\n",
    "\n",
    "stl2_lca = bc.LCA({stl2: 1}, methd)\n",
    "\n",
    "stl2_lca.lci()\n",
    "\n",
    "stl2_lca.lcia()\n",
    "\n",
    "stl2_lca.score\n",
    "\n",
    "stl1_lca.score - stl2_lca.score\n"
   ]
  },
  {
   "cell_type": "code",
   "execution_count": null,
   "metadata": {},
   "outputs": [],
   "source": []
  }
 ],
 "metadata": {
  "kernelspec": {
   "display_name": "polca",
   "language": "python",
   "name": "python3"
  },
  "language_info": {
   "codemirror_mode": {
    "name": "ipython",
    "version": 3
   },
   "file_extension": ".py",
   "mimetype": "text/x-python",
   "name": "python",
   "nbconvert_exporter": "python",
   "pygments_lexer": "ipython3",
   "version": "3.10.12"
  }
 },
 "nbformat": 4,
 "nbformat_minor": 2
}
