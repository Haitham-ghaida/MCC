{
 "cells": [
  {
   "cell_type": "code",
   "execution_count": 1,
   "metadata": {},
   "outputs": [],
   "source": [
    "from L420A import everything"
   ]
  },
  {
   "cell_type": "code",
   "execution_count": 2,
   "metadata": {},
   "outputs": [
    {
     "name": "stdout",
     "output_type": "stream",
     "text": [
      "Biosphere database already present!!! No setup is needed\n",
      "Database has already been imported\n"
     ]
    }
   ],
   "source": [
    "everything.setup()"
   ]
  },
  {
   "cell_type": "code",
   "execution_count": 3,
   "metadata": {},
   "outputs": [
    {
     "data": {
      "text/plain": [
       "[concrete_foundation_production,\n",
       " polystyrene foam slab production, 45% recycled,\n",
       " polyethylene production, low density, granulate,\n",
       " fibreboard production, hard,\n",
       " steel production, low-alloyed, hot rolled,\n",
       " concrete production, 25MPa, for building construction, for interior use, with cement ZN/D, with 50% RC-C aggregates,\n",
       " glass wool mat production,\n",
       " gypsum plasterboard production,\n",
       " polyethylene production, high density, granulate, recycled,\n",
       " polyethylene production, low density, granulate,\n",
       " concrete production, 25MPa, for building construction, for interior use, with cement ZN/D, with 50% RC-C aggregates,\n",
       " window frame production, aluminium, U=1.6 W/m2K,\n",
       " door production, outer, wood-glass,\n",
       " fibre cement corrugated slab production,\n",
       " market for plywood,\n",
       " concrete production, 25MPa, for building construction, for interior use, with cement ZN/D, with 50% RC-C aggregates,\n",
       " concrete production, 25MPa, for building construction, for interior use, with cement ZN/D, with 50% RC-C aggregates,\n",
       " gypsum plasterboard production,\n",
       " concrete production, 25MPa, for building construction, for interior use, with cement ZN/D, with 50% RC-C aggregates,\n",
       " gypsum plasterboard production,\n",
       " flat glass production, coated,\n",
       " door production, outer, wood-aluminium,\n",
       " ceramic tile production,\n",
       " glass wool mat production,\n",
       " market for concrete slab,\n",
       " polyethylene production, low density, granulate,\n",
       " gypsum plasterboard production,\n",
       " fibre cement roof slate production,\n",
       " concrete roof tile production,\n",
       " polystyrene foam slab production,\n",
       " polyethylene production, low density, granulate,\n",
       " gypsum plasterboard production,\n",
       " polyethylene production, high density, granulate,\n",
       " steel production, converter, low-alloyed,\n",
       " hot water tank production, 600l,\n",
       " gas boiler production,\n",
       " ventilation duct production, steel, 100x50 mm,\n",
       " evacuated tube collector production]"
      ]
     },
     "execution_count": 3,
     "metadata": {},
     "output_type": "execute_result"
    }
   ],
   "source": [
    "everything.constructor(file = 'Case_study_existing_building_wEOL_4.xlsx', sheet = 'Construction')"
   ]
  },
  {
   "cell_type": "code",
   "execution_count": 4,
   "metadata": {},
   "outputs": [
    {
     "data": {
      "text/plain": [
       "'2eafb2856827730d501b1941671e3160'"
      ]
     },
     "execution_count": 4,
     "metadata": {},
     "output_type": "execute_result"
    }
   ],
   "source": [
    "everything.Product.instances[0].production_lci"
   ]
  },
  {
   "cell_type": "code",
   "execution_count": 5,
   "metadata": {},
   "outputs": [],
   "source": [
    "mfa = everything.Mfa(2020, 2050)"
   ]
  },
  {
   "cell_type": "code",
   "execution_count": 6,
   "metadata": {},
   "outputs": [],
   "source": [
    "for product in everything.Product.instances:\n",
    "    mfa.add_points(product)"
   ]
  },
  {
   "cell_type": "code",
   "execution_count": 7,
   "metadata": {},
   "outputs": [
    {
     "data": {
      "text/plain": [
       "[(2046, evacuated tube collector production),\n",
       " (2046, gas boiler production),\n",
       " (2046, hot water tank production, 600l),\n",
       " (2046, polyethylene production, high density, granulate),\n",
       " (2046, steel production, converter, low-alloyed),\n",
       " (2046, ventilation duct production, steel, 100x50 mm)]"
      ]
     },
     "execution_count": 7,
     "metadata": {},
     "output_type": "execute_result"
    }
   ],
   "source": [
    "mfa.points"
   ]
  },
  {
   "cell_type": "code",
   "execution_count": 8,
   "metadata": {},
   "outputs": [
    {
     "data": {
      "text/plain": [
       "2040"
      ]
     },
     "execution_count": 8,
     "metadata": {},
     "output_type": "execute_result"
    }
   ],
   "source": [
    "mfa.get_max_db_year()"
   ]
  },
  {
   "cell_type": "code",
   "execution_count": 9,
   "metadata": {},
   "outputs": [],
   "source": [
    "clean_list = mfa.clean_list_for_lca()"
   ]
  },
  {
   "cell_type": "code",
   "execution_count": 10,
   "metadata": {},
   "outputs": [],
   "source": [
    "lca2 = everything.ProLCA(activities_and_years=clean_list, yearly_databases=mfa.create_time_line_dict(), methods=[('EF v3.0 EN15804', 'climate change', 'global warming potential (GWP100)'), ('EF v3.0 EN15804', 'acidification', 'accumulated exceedance (AE)')])"
   ]
  },
  {
   "cell_type": "code",
   "execution_count": 11,
   "metadata": {},
   "outputs": [
    {
     "name": "stdout",
     "output_type": "stream",
     "text": [
      "SSP2-RCP19_2040 6032fcb0a208bdcdab5633d6be417d0e\n"
     ]
    },
    {
     "name": "stdout",
     "output_type": "stream",
     "text": [
      "SSP2-RCP26_2040 6032fcb0a208bdcdab5633d6be417d0e\n",
      "SSP2-RCP19_2040 2c559dbc4e822b444792e122dffe6c20\n",
      "SSP2-RCP26_2040 2c559dbc4e822b444792e122dffe6c20\n",
      "SSP2-RCP19_2040 932f861aecca8621f12e22e5f8ccb775\n",
      "SSP2-RCP26_2040 932f861aecca8621f12e22e5f8ccb775\n",
      "SSP2-RCP19_2040 1c2dd8677907f88a0746b958ca4efd43\n",
      "SSP2-RCP26_2040 1c2dd8677907f88a0746b958ca4efd43\n",
      "SSP2-RCP19_2040 1580abc0d8542f9117775cc18e264f97\n",
      "SSP2-RCP26_2040 1580abc0d8542f9117775cc18e264f97\n",
      "SSP2-RCP19_2040 89cb4e1a47b707fe43b99135b81fcaba\n",
      "SSP2-RCP26_2040 89cb4e1a47b707fe43b99135b81fcaba\n",
      "SSP2-RCP19_2040 adc6bbccf3d5b2955b050510e647852a\n",
      "SSP2-RCP26_2040 adc6bbccf3d5b2955b050510e647852a\n"
     ]
    },
    {
     "data": {
      "text/plain": [
       "{(2046,\n",
       "  '6032fcb0a208bdcdab5633d6be417d0e',\n",
       "  'SSP2-RCP19_2040'): [60.96440817983701, 2.003524394973958],\n",
       " (2046,\n",
       "  '6032fcb0a208bdcdab5633d6be417d0e',\n",
       "  'SSP2-RCP26_2040'): [76.9201013399435, 2.042545346996283],\n",
       " (2046,\n",
       "  '2c559dbc4e822b444792e122dffe6c20',\n",
       "  'SSP2-RCP19_2040'): [-0.029349983716362896, -7.371097654687322e-05],\n",
       " (2046,\n",
       "  '2c559dbc4e822b444792e122dffe6c20',\n",
       "  'SSP2-RCP26_2040'): [-0.02978563976492274, -7.457237612359403e-05],\n",
       " (2046,\n",
       "  '932f861aecca8621f12e22e5f8ccb775',\n",
       "  'SSP2-RCP19_2040'): [373.47500729260406, 4.605821282151615],\n",
       " (2046,\n",
       "  '932f861aecca8621f12e22e5f8ccb775',\n",
       "  'SSP2-RCP26_2040'): [430.4561265718593, 4.741022770465057],\n",
       " (2046,\n",
       "  '1c2dd8677907f88a0746b958ca4efd43',\n",
       "  'SSP2-RCP19_2040'): [598.9502882688827, 2.881731206641944],\n",
       " (2046,\n",
       "  '1c2dd8677907f88a0746b958ca4efd43',\n",
       "  'SSP2-RCP26_2040'): [694.3240495184873, 3.1212666858827043],\n",
       " (2046,\n",
       "  '1580abc0d8542f9117775cc18e264f97',\n",
       "  'SSP2-RCP19_2040'): [1.8316756421438505, 0.0059965357531730715],\n",
       " (2046,\n",
       "  '1580abc0d8542f9117775cc18e264f97',\n",
       "  'SSP2-RCP26_2040'): [1.862369610272013, 0.005953300993789006],\n",
       " (2046,\n",
       "  '89cb4e1a47b707fe43b99135b81fcaba',\n",
       "  'SSP2-RCP19_2040'): [1.9295025059504873, 0.00766489177782376],\n",
       " (2046,\n",
       "  '89cb4e1a47b707fe43b99135b81fcaba',\n",
       "  'SSP2-RCP26_2040'): [2.0111389678209046, 0.00787268734009004],\n",
       " (2046,\n",
       "  'adc6bbccf3d5b2955b050510e647852a',\n",
       "  'SSP2-RCP19_2040'): [5.167113395618682, 0.22785525580534982],\n",
       " (2046,\n",
       "  'adc6bbccf3d5b2955b050510e647852a',\n",
       "  'SSP2-RCP26_2040'): [5.708426064068332, 0.2285534684257243]}"
      ]
     },
     "execution_count": 11,
     "metadata": {},
     "output_type": "execute_result"
    }
   ],
   "source": [
    "lca2.give_me_embodied()"
   ]
  },
  {
   "cell_type": "code",
   "execution_count": 12,
   "metadata": {},
   "outputs": [
    {
     "data": {
      "text/plain": [
       "{(2046,\n",
       "  '6032fcb0a208bdcdab5633d6be417d0e',\n",
       "  'SSP2-RCP19_2040'): [60.96440817983701, 2.003524394973958],\n",
       " (2046,\n",
       "  '6032fcb0a208bdcdab5633d6be417d0e',\n",
       "  'SSP2-RCP26_2040'): [76.9201013399435, 2.042545346996283],\n",
       " (2046,\n",
       "  '2c559dbc4e822b444792e122dffe6c20',\n",
       "  'SSP2-RCP19_2040'): [-0.029349983716362896, -7.371097654687322e-05],\n",
       " (2046,\n",
       "  '2c559dbc4e822b444792e122dffe6c20',\n",
       "  'SSP2-RCP26_2040'): [-0.02978563976492274, -7.457237612359403e-05],\n",
       " (2046,\n",
       "  '932f861aecca8621f12e22e5f8ccb775',\n",
       "  'SSP2-RCP19_2040'): [373.47500729260406, 4.605821282151615],\n",
       " (2046,\n",
       "  '932f861aecca8621f12e22e5f8ccb775',\n",
       "  'SSP2-RCP26_2040'): [430.4561265718593, 4.741022770465057],\n",
       " (2046,\n",
       "  '1c2dd8677907f88a0746b958ca4efd43',\n",
       "  'SSP2-RCP19_2040'): [598.9502882688827, 2.881731206641944],\n",
       " (2046,\n",
       "  '1c2dd8677907f88a0746b958ca4efd43',\n",
       "  'SSP2-RCP26_2040'): [694.3240495184873, 3.1212666858827043],\n",
       " (2046,\n",
       "  '1580abc0d8542f9117775cc18e264f97',\n",
       "  'SSP2-RCP19_2040'): [1.8316756421438505, 0.0059965357531730715],\n",
       " (2046,\n",
       "  '1580abc0d8542f9117775cc18e264f97',\n",
       "  'SSP2-RCP26_2040'): [1.862369610272013, 0.005953300993789006],\n",
       " (2046,\n",
       "  '89cb4e1a47b707fe43b99135b81fcaba',\n",
       "  'SSP2-RCP19_2040'): [1.9295025059504873, 0.00766489177782376],\n",
       " (2046,\n",
       "  '89cb4e1a47b707fe43b99135b81fcaba',\n",
       "  'SSP2-RCP26_2040'): [2.0111389678209046, 0.00787268734009004],\n",
       " (2046,\n",
       "  'adc6bbccf3d5b2955b050510e647852a',\n",
       "  'SSP2-RCP19_2040'): [5.167113395618682, 0.22785525580534982],\n",
       " (2046,\n",
       "  'adc6bbccf3d5b2955b050510e647852a',\n",
       "  'SSP2-RCP26_2040'): [5.708426064068332, 0.2285534684257243]}"
      ]
     },
     "execution_count": 12,
     "metadata": {},
     "output_type": "execute_result"
    }
   ],
   "source": [
    "_11"
   ]
  },
  {
   "cell_type": "code",
   "execution_count": 13,
   "metadata": {},
   "outputs": [
    {
     "name": "stdout",
     "output_type": "stream",
     "text": [
      "[]\n",
      "[]\n",
      "[]\n",
      "[(2046, '6032fcb0a208bdcdab5633d6be417d0e', 'SSP2-RCP19_2040'), (2046, '6032fcb0a208bdcdab5633d6be417d0e', 'SSP2-RCP26_2040')]\n",
      "[(2046, '2c559dbc4e822b444792e122dffe6c20', 'SSP2-RCP19_2040'), (2046, '2c559dbc4e822b444792e122dffe6c20', 'SSP2-RCP26_2040')]\n",
      "[]\n",
      "[]\n",
      "[]\n",
      "[(2046, '1580abc0d8542f9117775cc18e264f97', 'SSP2-RCP19_2040'), (2046, '1580abc0d8542f9117775cc18e264f97', 'SSP2-RCP26_2040')]\n",
      "[]\n",
      "[]\n",
      "[]\n",
      "[]\n",
      "[]\n",
      "[]\n",
      "[]\n",
      "[]\n",
      "[]\n",
      "[]\n",
      "[]\n",
      "[]\n",
      "[]\n",
      "[]\n",
      "[]\n",
      "[]\n",
      "[]\n",
      "[]\n",
      "[]\n",
      "[]\n",
      "[]\n",
      "[]\n",
      "[]\n",
      "[(2046, '2c559dbc4e822b444792e122dffe6c20', 'SSP2-RCP19_2040'), (2046, '2c559dbc4e822b444792e122dffe6c20', 'SSP2-RCP26_2040'), (2046, '1580abc0d8542f9117775cc18e264f97', 'SSP2-RCP19_2040'), (2046, '1580abc0d8542f9117775cc18e264f97', 'SSP2-RCP26_2040')]\n",
      "[(2046, '2c559dbc4e822b444792e122dffe6c20', 'SSP2-RCP19_2040'), (2046, '2c559dbc4e822b444792e122dffe6c20', 'SSP2-RCP26_2040'), (2046, '89cb4e1a47b707fe43b99135b81fcaba', 'SSP2-RCP19_2040'), (2046, '89cb4e1a47b707fe43b99135b81fcaba', 'SSP2-RCP26_2040')]\n",
      "[(2046, '2c559dbc4e822b444792e122dffe6c20', 'SSP2-RCP19_2040'), (2046, '2c559dbc4e822b444792e122dffe6c20', 'SSP2-RCP26_2040'), (2046, '1c2dd8677907f88a0746b958ca4efd43', 'SSP2-RCP19_2040'), (2046, '1c2dd8677907f88a0746b958ca4efd43', 'SSP2-RCP26_2040')]\n",
      "[(2046, '2c559dbc4e822b444792e122dffe6c20', 'SSP2-RCP19_2040'), (2046, '2c559dbc4e822b444792e122dffe6c20', 'SSP2-RCP26_2040'), (2046, '932f861aecca8621f12e22e5f8ccb775', 'SSP2-RCP19_2040'), (2046, '932f861aecca8621f12e22e5f8ccb775', 'SSP2-RCP26_2040')]\n",
      "[(2046, '2c559dbc4e822b444792e122dffe6c20', 'SSP2-RCP19_2040'), (2046, '2c559dbc4e822b444792e122dffe6c20', 'SSP2-RCP26_2040'), (2046, 'adc6bbccf3d5b2955b050510e647852a', 'SSP2-RCP19_2040'), (2046, 'adc6bbccf3d5b2955b050510e647852a', 'SSP2-RCP26_2040')]\n",
      "[(2046, '6032fcb0a208bdcdab5633d6be417d0e', 'SSP2-RCP19_2040'), (2046, '6032fcb0a208bdcdab5633d6be417d0e', 'SSP2-RCP26_2040'), (2046, '2c559dbc4e822b444792e122dffe6c20', 'SSP2-RCP19_2040'), (2046, '2c559dbc4e822b444792e122dffe6c20', 'SSP2-RCP26_2040')]\n"
     ]
    }
   ],
   "source": [
    "data = {}\n",
    "for product in everything.Product.instances:\n",
    "    product.embodied_impacts = everything.GiveMeName.aggregator(_11, product)\n",
    "    if not len(product.embodied_impacts) == 0:\n",
    "        data[product.name] = product.embodied_impacts"
   ]
  },
  {
   "cell_type": "code",
   "execution_count": 1,
   "metadata": {},
   "outputs": [],
   "source": [
    "from L420A import everything"
   ]
  },
  {
   "cell_type": "code",
   "execution_count": 2,
   "metadata": {},
   "outputs": [],
   "source": [
    "# data\n",
    "# pickle this data\n",
    "\n",
    "# Path: test.ipynb\n",
    "\n",
    "import pickle\n",
    "# with open('data.pickle', 'wb') as handle:\n",
    "#     pickle.dump(data, handle, protocol=pickle.HIGHEST_PROTOCOL)\n",
    "    \n",
    "with open('data.pickle', 'rb') as handle:\n",
    "    b = pickle.load(handle)\n",
    "    "
   ]
  },
  {
   "cell_type": "code",
   "execution_count": 3,
   "metadata": {},
   "outputs": [
    {
     "data": {
      "text/plain": [
       "{'fibreboard production, hard': {(2046,\n",
       "   '6032fcb0a208bdcdab5633d6be417d0e',\n",
       "   'SSP2-RCP19_2040'): [121.92881635967402, 4.007048789947916],\n",
       "  (2046,\n",
       "   '6032fcb0a208bdcdab5633d6be417d0e',\n",
       "   'SSP2-RCP26_2040'): [153.840202679887, 4.085090693992566]},\n",
       " 'steel production, low-alloyed, hot rolled': {(2046,\n",
       "   '2c559dbc4e822b444792e122dffe6c20',\n",
       "   'SSP2-RCP19_2040'): [-23.479986973090316, -0.058968781237498574],\n",
       "  (2046,\n",
       "   '2c559dbc4e822b444792e122dffe6c20',\n",
       "   'SSP2-RCP26_2040'): [-23.828511811938192, -0.05965790089887522]},\n",
       " 'polyethylene production, high density, granulate, recycled': {(2046,\n",
       "   '1580abc0d8542f9117775cc18e264f97',\n",
       "   'SSP2-RCP19_2040'): [613.6113401181899, 2.008839477312979],\n",
       "  (2046,\n",
       "   '1580abc0d8542f9117775cc18e264f97',\n",
       "   'SSP2-RCP26_2040'): [623.8938194411244, 1.994355832919317]},\n",
       " 'polyethylene production, high density, granulate': {(2046,\n",
       "   '2c559dbc4e822b444792e122dffe6c20',\n",
       "   'SSP2-RCP19_2040'): [-0.5282997068945321, -0.001326797577843718],\n",
       "  (2046,\n",
       "   '2c559dbc4e822b444792e122dffe6c20',\n",
       "   'SSP2-RCP26_2040'): [-0.5361415157686094, -0.0013423027702246925],\n",
       "  (2046,\n",
       "   '1580abc0d8542f9117775cc18e264f97',\n",
       "   'SSP2-RCP19_2040'): [32.97016155858931, 0.10793764355711528],\n",
       "  (2046,\n",
       "   '1580abc0d8542f9117775cc18e264f97',\n",
       "   'SSP2-RCP26_2040'): [33.52265298489623, 0.1071594178882021]},\n",
       " 'steel production, converter, low-alloyed': {(2046,\n",
       "   '2c559dbc4e822b444792e122dffe6c20',\n",
       "   'SSP2-RCP19_2040'): [-2.8762984042035638, -0.0072236757015935755],\n",
       "  (2046,\n",
       "   '2c559dbc4e822b444792e122dffe6c20',\n",
       "   'SSP2-RCP26_2040'): [-2.9189926969624285, -0.0073080928601122145],\n",
       "  (2046,\n",
       "   '89cb4e1a47b707fe43b99135b81fcaba',\n",
       "   'SSP2-RCP19_2040'): [189.09124558314775, 0.7511593942267285],\n",
       "  (2046,\n",
       "   '89cb4e1a47b707fe43b99135b81fcaba',\n",
       "   'SSP2-RCP26_2040'): [197.09161884644865, 0.7715233593288239]},\n",
       " 'hot water tank production, 600l': {(2046,\n",
       "   '2c559dbc4e822b444792e122dffe6c20',\n",
       "   'SSP2-RCP19_2040'): [-0.029349983716362896, -7.371097654687322e-05],\n",
       "  (2046,\n",
       "   '2c559dbc4e822b444792e122dffe6c20',\n",
       "   'SSP2-RCP26_2040'): [-0.02978563976492274, -7.457237612359403e-05],\n",
       "  (2046,\n",
       "   '1c2dd8677907f88a0746b958ca4efd43',\n",
       "   'SSP2-RCP19_2040'): [598.9502882688827, 2.881731206641944],\n",
       "  (2046,\n",
       "   '1c2dd8677907f88a0746b958ca4efd43',\n",
       "   'SSP2-RCP26_2040'): [694.3240495184873, 3.1212666858827043]},\n",
       " 'gas boiler production': {(2046,\n",
       "   '2c559dbc4e822b444792e122dffe6c20',\n",
       "   'SSP2-RCP19_2040'): [-0.029349983716362896, -7.371097654687322e-05],\n",
       "  (2046,\n",
       "   '2c559dbc4e822b444792e122dffe6c20',\n",
       "   'SSP2-RCP26_2040'): [-0.02978563976492274, -7.457237612359403e-05],\n",
       "  (2046,\n",
       "   '932f861aecca8621f12e22e5f8ccb775',\n",
       "   'SSP2-RCP19_2040'): [373.47500729260406, 4.605821282151615],\n",
       "  (2046,\n",
       "   '932f861aecca8621f12e22e5f8ccb775',\n",
       "   'SSP2-RCP26_2040'): [430.4561265718593, 4.741022770465057]},\n",
       " 'ventilation duct production, steel, 100x50 mm': {(2046,\n",
       "   '2c559dbc4e822b444792e122dffe6c20',\n",
       "   'SSP2-RCP19_2040'): [-5.7525968084071275, -0.014447351403187151],\n",
       "  (2046,\n",
       "   '2c559dbc4e822b444792e122dffe6c20',\n",
       "   'SSP2-RCP26_2040'): [-5.837985393924857, -0.014616185720224429],\n",
       "  (2046,\n",
       "   'adc6bbccf3d5b2955b050510e647852a',\n",
       "   'SSP2-RCP19_2040'): [1012.7542255412617, 44.659630137848566],\n",
       "  (2046,\n",
       "   'adc6bbccf3d5b2955b050510e647852a',\n",
       "   'SSP2-RCP26_2040'): [1118.8515085573931, 44.79647981144196]},\n",
       " 'evacuated tube collector production': {(2046,\n",
       "   '6032fcb0a208bdcdab5633d6be417d0e',\n",
       "   'SSP2-RCP19_2040'): [487.71526543869606, 16.028195159791665],\n",
       "  (2046,\n",
       "   '6032fcb0a208bdcdab5633d6be417d0e',\n",
       "   'SSP2-RCP26_2040'): [615.360810719548, 16.340362775970263],\n",
       "  (2046,\n",
       "   '2c559dbc4e822b444792e122dffe6c20',\n",
       "   'SSP2-RCP19_2040'): [-0.23479986973090317, -0.0005896878123749857],\n",
       "  (2046,\n",
       "   '2c559dbc4e822b444792e122dffe6c20',\n",
       "   'SSP2-RCP26_2040'): [-0.2382851181193819, -0.0005965790089887522]}}"
      ]
     },
     "execution_count": 3,
     "metadata": {},
     "output_type": "execute_result"
    }
   ],
   "source": [
    "(b)"
   ]
  },
  {
   "cell_type": "code",
   "execution_count": null,
   "metadata": {},
   "outputs": [],
   "source": []
  },
  {
   "cell_type": "code",
   "execution_count": 6,
   "metadata": {},
   "outputs": [
    {
     "ename": "ActivityDatasetDoesNotExist",
     "evalue": "<Model: ActivityDataset> instance matching query does not exist:\nSQL: SELECT \"t1\".\"id\", \"t1\".\"data\", \"t1\".\"code\", \"t1\".\"database\", \"t1\".\"location\", \"t1\".\"name\", \"t1\".\"product\", \"t1\".\"type\" FROM \"activitydataset\" AS \"t1\" WHERE ((\"t1\".\"database\" = ?) AND (\"t1\".\"code\" = ?)) ORDER BY Random() LIMIT ? OFFSET ?\nParams: ['9', '3', 1, 0]",
     "output_type": "error",
     "traceback": [
      "\u001b[0;31m---------------------------------------------------------------------------\u001b[0m",
      "\u001b[0;31mIndexError\u001b[0m                                Traceback (most recent call last)",
      "File \u001b[0;32m~/.local/lib/python3.10/site-packages/peewee.py:7072\u001b[0m, in \u001b[0;36mBaseModelSelect.get\u001b[0;34m(self, database)\u001b[0m\n\u001b[1;32m   7071\u001b[0m \u001b[39mtry\u001b[39;00m:\n\u001b[0;32m-> 7072\u001b[0m     \u001b[39mreturn\u001b[39;00m clone\u001b[39m.\u001b[39;49mexecute(database)[\u001b[39m0\u001b[39;49m]\n\u001b[1;32m   7073\u001b[0m \u001b[39mexcept\u001b[39;00m \u001b[39mIndexError\u001b[39;00m:\n",
      "File \u001b[0;32m~/.local/lib/python3.10/site-packages/peewee.py:4436\u001b[0m, in \u001b[0;36mCursorWrapper.__getitem__\u001b[0;34m(self, item)\u001b[0m\n\u001b[1;32m   4435\u001b[0m     \u001b[39mself\u001b[39m\u001b[39m.\u001b[39mfill_cache(item \u001b[39mif\u001b[39;00m item \u001b[39m>\u001b[39m \u001b[39m0\u001b[39m \u001b[39melse\u001b[39;00m \u001b[39m0\u001b[39m)\n\u001b[0;32m-> 4436\u001b[0m     \u001b[39mreturn\u001b[39;00m \u001b[39mself\u001b[39;49m\u001b[39m.\u001b[39;49mrow_cache[item]\n\u001b[1;32m   4437\u001b[0m \u001b[39melse\u001b[39;00m:\n",
      "\u001b[0;31mIndexError\u001b[0m: list index out of range",
      "\nDuring handling of the above exception, another exception occurred:\n",
      "\u001b[0;31mActivityDatasetDoesNotExist\u001b[0m               Traceback (most recent call last)",
      "\u001b[1;32m/home/haithamth/Desktop/code/MCC/test.ipynb Cell 17\u001b[0m line \u001b[0;36m1\n\u001b[0;32m----> <a href='vscode-notebook-cell:/home/haithamth/Desktop/code/MCC/test.ipynb#X36sZmlsZQ%3D%3D?line=0'>1</a>\u001b[0m everything\u001b[39m.\u001b[39;49mbd\u001b[39m.\u001b[39;49mget_activity((\u001b[39m'\u001b[39;49m\u001b[39m932f861aecca8621f12e22e5f8ccb775\u001b[39;49m\u001b[39m'\u001b[39;49m))\n",
      "File \u001b[0;32m~/.local/lib/python3.10/site-packages/bw2data/utils.py:335\u001b[0m, in \u001b[0;36mget_activity\u001b[0;34m(key)\u001b[0m\n\u001b[1;32m    333\u001b[0m \u001b[39mfrom\u001b[39;00m \u001b[39m.\u001b[39;00m\u001b[39mdatabase\u001b[39;00m \u001b[39mimport\u001b[39;00m Database\n\u001b[1;32m    334\u001b[0m \u001b[39mtry\u001b[39;00m:\n\u001b[0;32m--> 335\u001b[0m     \u001b[39mreturn\u001b[39;00m Database(key[\u001b[39m0\u001b[39;49m])\u001b[39m.\u001b[39;49mget(key[\u001b[39m1\u001b[39;49m])\n\u001b[1;32m    336\u001b[0m \u001b[39mexcept\u001b[39;00m \u001b[39mTypeError\u001b[39;00m:\n\u001b[1;32m    337\u001b[0m     \u001b[39mraise\u001b[39;00m UnknownObject(\u001b[39m\"\u001b[39m\u001b[39mKey \u001b[39m\u001b[39m{}\u001b[39;00m\u001b[39m cannot be understood as an activity\u001b[39m\u001b[39m\"\u001b[39m\n\u001b[1;32m    338\u001b[0m                         \u001b[39m\"\u001b[39m\u001b[39m or `(database, code)` tuple.\u001b[39m\u001b[39m\"\u001b[39m)\n",
      "File \u001b[0;32m~/.local/lib/python3.10/site-packages/bw2data/backends/peewee/database.py:133\u001b[0m, in \u001b[0;36mSQLiteBackend.get\u001b[0;34m(self, code)\u001b[0m\n\u001b[1;32m    130\u001b[0m \u001b[39mdef\u001b[39;00m \u001b[39mget\u001b[39m(\u001b[39mself\u001b[39m, code):\n\u001b[1;32m    131\u001b[0m     \u001b[39mreturn\u001b[39;00m Activity(\n\u001b[1;32m    132\u001b[0m         \u001b[39mself\u001b[39;49m\u001b[39m.\u001b[39;49m_get_queryset(filters\u001b[39m=\u001b[39;49m\u001b[39mFalse\u001b[39;49;00m)\u001b[39m.\u001b[39;49mwhere(\n\u001b[0;32m--> 133\u001b[0m             ActivityDataset\u001b[39m.\u001b[39;49mcode \u001b[39m==\u001b[39;49m code)\u001b[39m.\u001b[39;49mget()\n\u001b[1;32m    134\u001b[0m     )\n",
      "File \u001b[0;32m~/.local/lib/python3.10/site-packages/peewee.py:7075\u001b[0m, in \u001b[0;36mBaseModelSelect.get\u001b[0;34m(self, database)\u001b[0m\n\u001b[1;32m   7073\u001b[0m \u001b[39mexcept\u001b[39;00m \u001b[39mIndexError\u001b[39;00m:\n\u001b[1;32m   7074\u001b[0m     sql, params \u001b[39m=\u001b[39m clone\u001b[39m.\u001b[39msql()\n\u001b[0;32m-> 7075\u001b[0m     \u001b[39mraise\u001b[39;00m \u001b[39mself\u001b[39m\u001b[39m.\u001b[39mmodel\u001b[39m.\u001b[39mDoesNotExist(\u001b[39m'\u001b[39m\u001b[39m%s\u001b[39;00m\u001b[39m instance matching query does \u001b[39m\u001b[39m'\u001b[39m\n\u001b[1;32m   7076\u001b[0m                                   \u001b[39m'\u001b[39m\u001b[39mnot exist:\u001b[39m\u001b[39m\\n\u001b[39;00m\u001b[39mSQL: \u001b[39m\u001b[39m%s\u001b[39;00m\u001b[39m\\n\u001b[39;00m\u001b[39mParams: \u001b[39m\u001b[39m%s\u001b[39;00m\u001b[39m'\u001b[39m \u001b[39m%\u001b[39m\n\u001b[1;32m   7077\u001b[0m                                   (clone\u001b[39m.\u001b[39mmodel, sql, params))\n",
      "\u001b[0;31mActivityDatasetDoesNotExist\u001b[0m: <Model: ActivityDataset> instance matching query does not exist:\nSQL: SELECT \"t1\".\"id\", \"t1\".\"data\", \"t1\".\"code\", \"t1\".\"database\", \"t1\".\"location\", \"t1\".\"name\", \"t1\".\"product\", \"t1\".\"type\" FROM \"activitydataset\" AS \"t1\" WHERE ((\"t1\".\"database\" = ?) AND (\"t1\".\"code\" = ?)) ORDER BY Random() LIMIT ? OFFSET ?\nParams: ['9', '3', 1, 0]"
     ]
    }
   ],
   "source": [
    "everything.bd.get_activity(('932f861aecca8621f12e22e5f8ccb775'))"
   ]
  },
  {
   "cell_type": "code",
   "execution_count": 4,
   "metadata": {},
   "outputs": [
    {
     "name": "stdout",
     "output_type": "stream",
     "text": [
      "{'932f861aecca8621f12e22e5f8ccb775', '89cb4e1a47b707fe43b99135b81fcaba', '1580abc0d8542f9117775cc18e264f97', '1c2dd8677907f88a0746b958ca4efd43', '6032fcb0a208bdcdab5633d6be417d0e', '2c559dbc4e822b444792e122dffe6c20', 'adc6bbccf3d5b2955b050510e647852a'}\n"
     ]
    },
    {
     "ename": "ActivityDatasetDoesNotExist",
     "evalue": "<Model: ActivityDataset> instance matching query does not exist:\nSQL: SELECT \"t1\".\"id\", \"t1\".\"data\", \"t1\".\"code\", \"t1\".\"database\", \"t1\".\"location\", \"t1\".\"name\", \"t1\".\"product\", \"t1\".\"type\" FROM \"activitydataset\" AS \"t1\" WHERE ((\"t1\".\"database\" = ?) AND (\"t1\".\"code\" = ?)) ORDER BY Random() LIMIT ? OFFSET ?\nParams: ['SSP2-RCP19_2030', '932f861aecca8621f12e22e5f8ccb775', 1, 0]",
     "output_type": "error",
     "traceback": [
      "\u001b[0;31m---------------------------------------------------------------------------\u001b[0m",
      "\u001b[0;31mIndexError\u001b[0m                                Traceback (most recent call last)",
      "File \u001b[0;32m~/.local/lib/python3.10/site-packages/peewee.py:7072\u001b[0m, in \u001b[0;36mBaseModelSelect.get\u001b[0;34m(self, database)\u001b[0m\n\u001b[1;32m   7071\u001b[0m \u001b[39mtry\u001b[39;00m:\n\u001b[0;32m-> 7072\u001b[0m     \u001b[39mreturn\u001b[39;00m clone\u001b[39m.\u001b[39;49mexecute(database)[\u001b[39m0\u001b[39;49m]\n\u001b[1;32m   7073\u001b[0m \u001b[39mexcept\u001b[39;00m \u001b[39mIndexError\u001b[39;00m:\n",
      "File \u001b[0;32m~/.local/lib/python3.10/site-packages/peewee.py:4436\u001b[0m, in \u001b[0;36mCursorWrapper.__getitem__\u001b[0;34m(self, item)\u001b[0m\n\u001b[1;32m   4435\u001b[0m     \u001b[39mself\u001b[39m\u001b[39m.\u001b[39mfill_cache(item \u001b[39mif\u001b[39;00m item \u001b[39m>\u001b[39m \u001b[39m0\u001b[39m \u001b[39melse\u001b[39;00m \u001b[39m0\u001b[39m)\n\u001b[0;32m-> 4436\u001b[0m     \u001b[39mreturn\u001b[39;00m \u001b[39mself\u001b[39;49m\u001b[39m.\u001b[39;49mrow_cache[item]\n\u001b[1;32m   4437\u001b[0m \u001b[39melse\u001b[39;00m:\n",
      "\u001b[0;31mIndexError\u001b[0m: list index out of range",
      "\nDuring handling of the above exception, another exception occurred:\n",
      "\u001b[0;31mActivityDatasetDoesNotExist\u001b[0m               Traceback (most recent call last)",
      "\u001b[1;32m/home/haithamth/Desktop/code/MCC/test.ipynb Cell 17\u001b[0m line \u001b[0;36m1\n\u001b[0;32m----> <a href='vscode-notebook-cell:/home/haithamth/Desktop/code/MCC/test.ipynb#X25sZmlsZQ%3D%3D?line=0'>1</a>\u001b[0m everything\u001b[39m.\u001b[39;49mGiveMeName\u001b[39m.\u001b[39;49mpoop_to_excel(b, \u001b[39m'\u001b[39;49m\u001b[39mtest.xlsx\u001b[39;49m\u001b[39m'\u001b[39;49m)\n",
      "File \u001b[0;32m~/Desktop/code/MCC/L420A/everything.py:275\u001b[0m, in \u001b[0;36mGiveMeName.poop_to_excel\u001b[0;34m(data, output_file)\u001b[0m\n\u001b[1;32m    272\u001b[0m         activity_codes\u001b[39m.\u001b[39madd(product_data[\u001b[39m1\u001b[39m])\n\u001b[1;32m    273\u001b[0m \u001b[39mprint\u001b[39m(activity_codes)\n\u001b[0;32m--> 275\u001b[0m activity_names \u001b[39m=\u001b[39m {code: bd_get_activity((\u001b[39m'\u001b[39m\u001b[39mSSP2-RCP19_2030\u001b[39m\u001b[39m'\u001b[39m, code)) \u001b[39mfor\u001b[39;00m code \u001b[39min\u001b[39;00m activity_codes}\n\u001b[1;32m    276\u001b[0m dfs \u001b[39m=\u001b[39m {}\n\u001b[1;32m    278\u001b[0m \u001b[39m# Looping through each product and its associated embodied impacts\u001b[39;00m\n",
      "File \u001b[0;32m~/Desktop/code/MCC/L420A/everything.py:275\u001b[0m, in \u001b[0;36m<dictcomp>\u001b[0;34m(.0)\u001b[0m\n\u001b[1;32m    272\u001b[0m         activity_codes\u001b[39m.\u001b[39madd(product_data[\u001b[39m1\u001b[39m])\n\u001b[1;32m    273\u001b[0m \u001b[39mprint\u001b[39m(activity_codes)\n\u001b[0;32m--> 275\u001b[0m activity_names \u001b[39m=\u001b[39m {code: bd_get_activity((\u001b[39m'\u001b[39;49m\u001b[39mSSP2-RCP19_2030\u001b[39;49m\u001b[39m'\u001b[39;49m, code)) \u001b[39mfor\u001b[39;00m code \u001b[39min\u001b[39;00m activity_codes}\n\u001b[1;32m    276\u001b[0m dfs \u001b[39m=\u001b[39m {}\n\u001b[1;32m    278\u001b[0m \u001b[39m# Looping through each product and its associated embodied impacts\u001b[39;00m\n",
      "File \u001b[0;32m~/Desktop/code/MCC/L420A/everything.py:229\u001b[0m, in \u001b[0;36mbd_get_activity\u001b[0;34m(db_code)\u001b[0m\n\u001b[1;32m    227\u001b[0m \u001b[39mdef\u001b[39;00m \u001b[39mbd_get_activity\u001b[39m(db_code) \u001b[39m-\u001b[39m\u001b[39m>\u001b[39m \u001b[39mstr\u001b[39m:\n\u001b[1;32m    228\u001b[0m         \u001b[39m# Your existing bd.get_activity logic\u001b[39;00m\n\u001b[0;32m--> 229\u001b[0m         \u001b[39mreturn\u001b[39;00m bd\u001b[39m.\u001b[39;49mget_activity(db_code)[\u001b[39m'\u001b[39m\u001b[39mname\u001b[39m\u001b[39m'\u001b[39m]\n",
      "File \u001b[0;32m~/.local/lib/python3.10/site-packages/bw2data/utils.py:335\u001b[0m, in \u001b[0;36mget_activity\u001b[0;34m(key)\u001b[0m\n\u001b[1;32m    333\u001b[0m \u001b[39mfrom\u001b[39;00m \u001b[39m.\u001b[39;00m\u001b[39mdatabase\u001b[39;00m \u001b[39mimport\u001b[39;00m Database\n\u001b[1;32m    334\u001b[0m \u001b[39mtry\u001b[39;00m:\n\u001b[0;32m--> 335\u001b[0m     \u001b[39mreturn\u001b[39;00m Database(key[\u001b[39m0\u001b[39;49m])\u001b[39m.\u001b[39;49mget(key[\u001b[39m1\u001b[39;49m])\n\u001b[1;32m    336\u001b[0m \u001b[39mexcept\u001b[39;00m \u001b[39mTypeError\u001b[39;00m:\n\u001b[1;32m    337\u001b[0m     \u001b[39mraise\u001b[39;00m UnknownObject(\u001b[39m\"\u001b[39m\u001b[39mKey \u001b[39m\u001b[39m{}\u001b[39;00m\u001b[39m cannot be understood as an activity\u001b[39m\u001b[39m\"\u001b[39m\n\u001b[1;32m    338\u001b[0m                         \u001b[39m\"\u001b[39m\u001b[39m or `(database, code)` tuple.\u001b[39m\u001b[39m\"\u001b[39m)\n",
      "File \u001b[0;32m~/.local/lib/python3.10/site-packages/bw2data/backends/peewee/database.py:133\u001b[0m, in \u001b[0;36mSQLiteBackend.get\u001b[0;34m(self, code)\u001b[0m\n\u001b[1;32m    130\u001b[0m \u001b[39mdef\u001b[39;00m \u001b[39mget\u001b[39m(\u001b[39mself\u001b[39m, code):\n\u001b[1;32m    131\u001b[0m     \u001b[39mreturn\u001b[39;00m Activity(\n\u001b[1;32m    132\u001b[0m         \u001b[39mself\u001b[39;49m\u001b[39m.\u001b[39;49m_get_queryset(filters\u001b[39m=\u001b[39;49m\u001b[39mFalse\u001b[39;49;00m)\u001b[39m.\u001b[39;49mwhere(\n\u001b[0;32m--> 133\u001b[0m             ActivityDataset\u001b[39m.\u001b[39;49mcode \u001b[39m==\u001b[39;49m code)\u001b[39m.\u001b[39;49mget()\n\u001b[1;32m    134\u001b[0m     )\n",
      "File \u001b[0;32m~/.local/lib/python3.10/site-packages/peewee.py:7075\u001b[0m, in \u001b[0;36mBaseModelSelect.get\u001b[0;34m(self, database)\u001b[0m\n\u001b[1;32m   7073\u001b[0m \u001b[39mexcept\u001b[39;00m \u001b[39mIndexError\u001b[39;00m:\n\u001b[1;32m   7074\u001b[0m     sql, params \u001b[39m=\u001b[39m clone\u001b[39m.\u001b[39msql()\n\u001b[0;32m-> 7075\u001b[0m     \u001b[39mraise\u001b[39;00m \u001b[39mself\u001b[39m\u001b[39m.\u001b[39mmodel\u001b[39m.\u001b[39mDoesNotExist(\u001b[39m'\u001b[39m\u001b[39m%s\u001b[39;00m\u001b[39m instance matching query does \u001b[39m\u001b[39m'\u001b[39m\n\u001b[1;32m   7076\u001b[0m                                   \u001b[39m'\u001b[39m\u001b[39mnot exist:\u001b[39m\u001b[39m\\n\u001b[39;00m\u001b[39mSQL: \u001b[39m\u001b[39m%s\u001b[39;00m\u001b[39m\\n\u001b[39;00m\u001b[39mParams: \u001b[39m\u001b[39m%s\u001b[39;00m\u001b[39m'\u001b[39m \u001b[39m%\u001b[39m\n\u001b[1;32m   7077\u001b[0m                                   (clone\u001b[39m.\u001b[39mmodel, sql, params))\n",
      "\u001b[0;31mActivityDatasetDoesNotExist\u001b[0m: <Model: ActivityDataset> instance matching query does not exist:\nSQL: SELECT \"t1\".\"id\", \"t1\".\"data\", \"t1\".\"code\", \"t1\".\"database\", \"t1\".\"location\", \"t1\".\"name\", \"t1\".\"product\", \"t1\".\"type\" FROM \"activitydataset\" AS \"t1\" WHERE ((\"t1\".\"database\" = ?) AND (\"t1\".\"code\" = ?)) ORDER BY Random() LIMIT ? OFFSET ?\nParams: ['SSP2-RCP19_2030', '932f861aecca8621f12e22e5f8ccb775', 1, 0]"
     ]
    }
   ],
   "source": [
    "everything.GiveMeName.poop_to_excel(b, 'test.xlsx')"
   ]
  },
  {
   "cell_type": "code",
   "execution_count": null,
   "metadata": {},
   "outputs": [],
   "source": [
    "db = everything.bd.Database('ecoinvent-3.9.1-cuttoff')"
   ]
  },
  {
   "cell_type": "code",
   "execution_count": null,
   "metadata": {},
   "outputs": [],
   "source": [
    "for a in db:\n",
    "    if a['code'] == '9fda2f5ef0c1309141b798483b169b23':\n",
    "        print(a)"
   ]
  },
  {
   "cell_type": "code",
   "execution_count": null,
   "metadata": {},
   "outputs": [
    {
     "data": {
      "text/plain": [
       "'2c559dbc4e822b444792e122dffe6c20'"
      ]
     },
     "execution_count": 14,
     "metadata": {},
     "output_type": "execute_result"
    }
   ],
   "source": [
    "db.search('treatment of scrap steel fly ash')[0]['code']"
   ]
  }
 ],
 "metadata": {
  "kernelspec": {
   "display_name": "polca",
   "language": "python",
   "name": "python3"
  },
  "language_info": {
   "codemirror_mode": {
    "name": "ipython",
    "version": 3
   },
   "file_extension": ".py",
   "mimetype": "text/x-python",
   "name": "python",
   "nbconvert_exporter": "python",
   "pygments_lexer": "ipython3",
   "version": "3.10.12"
  }
 },
 "nbformat": 4,
 "nbformat_minor": 2
}
