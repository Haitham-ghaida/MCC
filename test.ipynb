{
 "cells": [
  {
   "cell_type": "code",
   "execution_count": 1,
   "metadata": {},
   "outputs": [],
   "source": [
    "from L420A import everything"
   ]
  },
  {
   "cell_type": "code",
   "execution_count": 2,
   "metadata": {},
   "outputs": [
    {
     "name": "stdout",
     "output_type": "stream",
     "text": [
      "Biosphere database already present!!! No setup is needed\n",
      "Database has already been imported\n"
     ]
    }
   ],
   "source": [
    "everything.setup()"
   ]
  },
  {
   "cell_type": "code",
   "execution_count": 3,
   "metadata": {},
   "outputs": [
    {
     "data": {
      "text/plain": [
       "[concrete_foundation_production,\n",
       " polystyrene foam slab production, 45% recycled,\n",
       " polyethylene production, low density, granulate,\n",
       " fibreboard production, hard,\n",
       " steel production, low-alloyed, hot rolled,\n",
       " concrete production, 25MPa, for building construction, for interior use, with cement ZN/D, with 50% RC-C aggregates,\n",
       " glass wool mat production,\n",
       " gypsum plasterboard production,\n",
       " polyethylene production, high density, granulate, recycled,\n",
       " polyethylene production, low density, granulate,\n",
       " concrete production, 25MPa, for building construction, for interior use, with cement ZN/D, with 50% RC-C aggregates,\n",
       " window frame production, aluminium, U=1.6 W/m2K,\n",
       " door production, outer, wood-glass,\n",
       " fibre cement corrugated slab production,\n",
       " market for plywood,\n",
       " concrete production, 25MPa, for building construction, for interior use, with cement ZN/D, with 50% RC-C aggregates,\n",
       " concrete production, 25MPa, for building construction, for interior use, with cement ZN/D, with 50% RC-C aggregates,\n",
       " gypsum plasterboard production,\n",
       " concrete production, 25MPa, for building construction, for interior use, with cement ZN/D, with 50% RC-C aggregates,\n",
       " gypsum plasterboard production,\n",
       " flat glass production, coated,\n",
       " door production, outer, wood-aluminium,\n",
       " ceramic tile production,\n",
       " glass wool mat production,\n",
       " market for concrete slab,\n",
       " polyethylene production, low density, granulate,\n",
       " gypsum plasterboard production,\n",
       " fibre cement roof slate production,\n",
       " concrete roof tile production,\n",
       " polystyrene foam slab production,\n",
       " polyethylene production, low density, granulate,\n",
       " gypsum plasterboard production,\n",
       " polyethylene production, high density, granulate,\n",
       " steel production, converter, low-alloyed,\n",
       " hot water tank production, 600l,\n",
       " gas boiler production,\n",
       " ventilation duct production, steel, 100x50 mm,\n",
       " evacuated tube collector production]"
      ]
     },
     "execution_count": 3,
     "metadata": {},
     "output_type": "execute_result"
    }
   ],
   "source": [
    "everything.constructor(file = 'Case_study_existing_building_wEOL_4.xlsx', sheet = 'Construction')"
   ]
  },
  {
   "cell_type": "code",
   "execution_count": 4,
   "metadata": {},
   "outputs": [
    {
     "data": {
      "text/plain": [
       "'2eafb2856827730d501b1941671e3160'"
      ]
     },
     "execution_count": 4,
     "metadata": {},
     "output_type": "execute_result"
    }
   ],
   "source": [
    "everything.Product.instances[0].production_lci"
   ]
  },
  {
   "cell_type": "code",
   "execution_count": 5,
   "metadata": {},
   "outputs": [],
   "source": [
    "mfa = everything.Mfa(2020, 2050)"
   ]
  },
  {
   "cell_type": "code",
   "execution_count": 6,
   "metadata": {},
   "outputs": [],
   "source": [
    "for product in everything.Product.instances:\n",
    "    mfa.add_points(product)"
   ]
  },
  {
   "cell_type": "code",
   "execution_count": 7,
   "metadata": {},
   "outputs": [
    {
     "data": {
      "text/plain": [
       "[(2046, polyethylene production, high density, granulate),\n",
       " (2046, hot water tank production, 600l),\n",
       " (2046, gas boiler production),\n",
       " (2046, evacuated tube collector production),\n",
       " (2046, steel production, converter, low-alloyed),\n",
       " (2046, ventilation duct production, steel, 100x50 mm)]"
      ]
     },
     "execution_count": 7,
     "metadata": {},
     "output_type": "execute_result"
    }
   ],
   "source": [
    "mfa.points"
   ]
  },
  {
   "cell_type": "code",
   "execution_count": 8,
   "metadata": {},
   "outputs": [
    {
     "data": {
      "text/plain": [
       "2040"
      ]
     },
     "execution_count": 8,
     "metadata": {},
     "output_type": "execute_result"
    }
   ],
   "source": [
    "mfa.get_max_db_year()"
   ]
  },
  {
   "cell_type": "code",
   "execution_count": 9,
   "metadata": {},
   "outputs": [],
   "source": [
    "clean_list = mfa.clean_list_for_lca()"
   ]
  },
  {
   "cell_type": "code",
   "execution_count": 10,
   "metadata": {},
   "outputs": [],
   "source": [
    "lca2 = everything.ProLCA(activities_and_years=clean_list, yearly_databases=mfa.create_time_line_dict(), methods=[('EF v3.0 EN15804', 'climate change', 'global warming potential (GWP100)'), ('EF v3.0 EN15804', 'acidification', 'accumulated exceedance (AE)')])"
   ]
  },
  {
   "cell_type": "code",
   "execution_count": 11,
   "metadata": {},
   "outputs": [
    {
     "name": "stdout",
     "output_type": "stream",
     "text": [
      "SSP2-RCP19_2040 1580abc0d8542f9117775cc18e264f97\n"
     ]
    },
    {
     "name": "stdout",
     "output_type": "stream",
     "text": [
      "SSP2-RCP26_2040 1580abc0d8542f9117775cc18e264f97\n",
      "SSP2-RCP19_2040 9fda2f5ef0c1309141b798483b169b23'\n"
     ]
    },
    {
     "ename": "ActivityDatasetDoesNotExist",
     "evalue": "<Model: ActivityDataset> instance matching query does not exist:\nSQL: SELECT \"t1\".\"id\", \"t1\".\"data\", \"t1\".\"code\", \"t1\".\"database\", \"t1\".\"location\", \"t1\".\"name\", \"t1\".\"product\", \"t1\".\"type\" FROM \"activitydataset\" AS \"t1\" WHERE ((\"t1\".\"database\" = ?) AND (\"t1\".\"code\" = ?)) ORDER BY Random() LIMIT ? OFFSET ?\nParams: ['SSP2-RCP19_2040', \"9fda2f5ef0c1309141b798483b169b23'\", 1, 0]",
     "output_type": "error",
     "traceback": [
      "\u001b[0;31m---------------------------------------------------------------------------\u001b[0m",
      "\u001b[0;31mIndexError\u001b[0m                                Traceback (most recent call last)",
      "File \u001b[0;32m~/.local/lib/python3.10/site-packages/peewee.py:7072\u001b[0m, in \u001b[0;36mBaseModelSelect.get\u001b[0;34m(self, database)\u001b[0m\n\u001b[1;32m   7071\u001b[0m \u001b[39mtry\u001b[39;00m:\n\u001b[0;32m-> 7072\u001b[0m     \u001b[39mreturn\u001b[39;00m clone\u001b[39m.\u001b[39;49mexecute(database)[\u001b[39m0\u001b[39;49m]\n\u001b[1;32m   7073\u001b[0m \u001b[39mexcept\u001b[39;00m \u001b[39mIndexError\u001b[39;00m:\n",
      "File \u001b[0;32m~/.local/lib/python3.10/site-packages/peewee.py:4436\u001b[0m, in \u001b[0;36mCursorWrapper.__getitem__\u001b[0;34m(self, item)\u001b[0m\n\u001b[1;32m   4435\u001b[0m     \u001b[39mself\u001b[39m\u001b[39m.\u001b[39mfill_cache(item \u001b[39mif\u001b[39;00m item \u001b[39m>\u001b[39m \u001b[39m0\u001b[39m \u001b[39melse\u001b[39;00m \u001b[39m0\u001b[39m)\n\u001b[0;32m-> 4436\u001b[0m     \u001b[39mreturn\u001b[39;00m \u001b[39mself\u001b[39;49m\u001b[39m.\u001b[39;49mrow_cache[item]\n\u001b[1;32m   4437\u001b[0m \u001b[39melse\u001b[39;00m:\n",
      "\u001b[0;31mIndexError\u001b[0m: list index out of range",
      "\nDuring handling of the above exception, another exception occurred:\n",
      "\u001b[0;31mActivityDatasetDoesNotExist\u001b[0m               Traceback (most recent call last)",
      "\u001b[1;32m/home/haithamth/Desktop/code/MCC/test.ipynb Cell 11\u001b[0m line \u001b[0;36m1\n\u001b[0;32m----> <a href='vscode-notebook-cell:/home/haithamth/Desktop/code/MCC/test.ipynb#X15sZmlsZQ%3D%3D?line=0'>1</a>\u001b[0m lca2\u001b[39m.\u001b[39;49mgive_me_embodied()\n",
      "File \u001b[0;32m~/Desktop/code/MCC/L420A/everything.py:207\u001b[0m, in \u001b[0;36mProLCA.give_me_embodied\u001b[0;34m(self)\u001b[0m\n\u001b[1;32m    205\u001b[0m \u001b[39m# get the activity from the database\u001b[39;00m\n\u001b[1;32m    206\u001b[0m \u001b[39mprint\u001b[39m(db, activity)\n\u001b[0;32m--> 207\u001b[0m demand \u001b[39m=\u001b[39m bd\u001b[39m.\u001b[39;49mget_activity((\u001b[39mstr\u001b[39;49m(db), activity))\n\u001b[1;32m    208\u001b[0m \u001b[39m# Define the functional unit for the LCA\u001b[39;00m\n\u001b[1;32m    209\u001b[0m amount \u001b[39m=\u001b[39m \u001b[39m1\u001b[39m\n",
      "File \u001b[0;32m~/.local/lib/python3.10/site-packages/bw2data/utils.py:335\u001b[0m, in \u001b[0;36mget_activity\u001b[0;34m(key)\u001b[0m\n\u001b[1;32m    333\u001b[0m \u001b[39mfrom\u001b[39;00m \u001b[39m.\u001b[39;00m\u001b[39mdatabase\u001b[39;00m \u001b[39mimport\u001b[39;00m Database\n\u001b[1;32m    334\u001b[0m \u001b[39mtry\u001b[39;00m:\n\u001b[0;32m--> 335\u001b[0m     \u001b[39mreturn\u001b[39;00m Database(key[\u001b[39m0\u001b[39;49m])\u001b[39m.\u001b[39;49mget(key[\u001b[39m1\u001b[39;49m])\n\u001b[1;32m    336\u001b[0m \u001b[39mexcept\u001b[39;00m \u001b[39mTypeError\u001b[39;00m:\n\u001b[1;32m    337\u001b[0m     \u001b[39mraise\u001b[39;00m UnknownObject(\u001b[39m\"\u001b[39m\u001b[39mKey \u001b[39m\u001b[39m{}\u001b[39;00m\u001b[39m cannot be understood as an activity\u001b[39m\u001b[39m\"\u001b[39m\n\u001b[1;32m    338\u001b[0m                         \u001b[39m\"\u001b[39m\u001b[39m or `(database, code)` tuple.\u001b[39m\u001b[39m\"\u001b[39m)\n",
      "File \u001b[0;32m~/.local/lib/python3.10/site-packages/bw2data/backends/peewee/database.py:133\u001b[0m, in \u001b[0;36mSQLiteBackend.get\u001b[0;34m(self, code)\u001b[0m\n\u001b[1;32m    130\u001b[0m \u001b[39mdef\u001b[39;00m \u001b[39mget\u001b[39m(\u001b[39mself\u001b[39m, code):\n\u001b[1;32m    131\u001b[0m     \u001b[39mreturn\u001b[39;00m Activity(\n\u001b[1;32m    132\u001b[0m         \u001b[39mself\u001b[39;49m\u001b[39m.\u001b[39;49m_get_queryset(filters\u001b[39m=\u001b[39;49m\u001b[39mFalse\u001b[39;49;00m)\u001b[39m.\u001b[39;49mwhere(\n\u001b[0;32m--> 133\u001b[0m             ActivityDataset\u001b[39m.\u001b[39;49mcode \u001b[39m==\u001b[39;49m code)\u001b[39m.\u001b[39;49mget()\n\u001b[1;32m    134\u001b[0m     )\n",
      "File \u001b[0;32m~/.local/lib/python3.10/site-packages/peewee.py:7075\u001b[0m, in \u001b[0;36mBaseModelSelect.get\u001b[0;34m(self, database)\u001b[0m\n\u001b[1;32m   7073\u001b[0m \u001b[39mexcept\u001b[39;00m \u001b[39mIndexError\u001b[39;00m:\n\u001b[1;32m   7074\u001b[0m     sql, params \u001b[39m=\u001b[39m clone\u001b[39m.\u001b[39msql()\n\u001b[0;32m-> 7075\u001b[0m     \u001b[39mraise\u001b[39;00m \u001b[39mself\u001b[39m\u001b[39m.\u001b[39mmodel\u001b[39m.\u001b[39mDoesNotExist(\u001b[39m'\u001b[39m\u001b[39m%s\u001b[39;00m\u001b[39m instance matching query does \u001b[39m\u001b[39m'\u001b[39m\n\u001b[1;32m   7076\u001b[0m                                   \u001b[39m'\u001b[39m\u001b[39mnot exist:\u001b[39m\u001b[39m\\n\u001b[39;00m\u001b[39mSQL: \u001b[39m\u001b[39m%s\u001b[39;00m\u001b[39m\\n\u001b[39;00m\u001b[39mParams: \u001b[39m\u001b[39m%s\u001b[39;00m\u001b[39m'\u001b[39m \u001b[39m%\u001b[39m\n\u001b[1;32m   7077\u001b[0m                                   (clone\u001b[39m.\u001b[39mmodel, sql, params))\n",
      "\u001b[0;31mActivityDatasetDoesNotExist\u001b[0m: <Model: ActivityDataset> instance matching query does not exist:\nSQL: SELECT \"t1\".\"id\", \"t1\".\"data\", \"t1\".\"code\", \"t1\".\"database\", \"t1\".\"location\", \"t1\".\"name\", \"t1\".\"product\", \"t1\".\"type\" FROM \"activitydataset\" AS \"t1\" WHERE ((\"t1\".\"database\" = ?) AND (\"t1\".\"code\" = ?)) ORDER BY Random() LIMIT ? OFFSET ?\nParams: ['SSP2-RCP19_2040', \"9fda2f5ef0c1309141b798483b169b23'\", 1, 0]"
     ]
    }
   ],
   "source": [
    "lca2.give_me_embodied()"
   ]
  },
  {
   "cell_type": "code",
   "execution_count": null,
   "metadata": {},
   "outputs": [],
   "source": []
  }
 ],
 "metadata": {
  "kernelspec": {
   "display_name": "polca",
   "language": "python",
   "name": "python3"
  },
  "language_info": {
   "codemirror_mode": {
    "name": "ipython",
    "version": 3
   },
   "file_extension": ".py",
   "mimetype": "text/x-python",
   "name": "python",
   "nbconvert_exporter": "python",
   "pygments_lexer": "ipython3",
   "version": "3.10.12"
  }
 },
 "nbformat": 4,
 "nbformat_minor": 2
}
