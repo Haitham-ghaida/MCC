{
 "cells": [
  {
   "cell_type": "code",
   "execution_count": 1,
   "metadata": {},
   "outputs": [],
   "source": [
    "from L420A import everything"
   ]
  },
  {
   "cell_type": "code",
   "execution_count": 2,
   "metadata": {},
   "outputs": [
    {
     "name": "stdout",
     "output_type": "stream",
     "text": [
      "Biosphere database already present!!! No setup is needed\n",
      "Database has already been imported\n"
     ]
    }
   ],
   "source": [
    "everything.setup()"
   ]
  },
  {
   "cell_type": "code",
   "execution_count": 3,
   "metadata": {},
   "outputs": [],
   "source": [
    "everything.constructor_main(file = 'Case_study_existing_building_wEOL_4.xlsx', sheet = 'Construction')"
   ]
  },
  {
   "cell_type": "code",
   "execution_count": 4,
   "metadata": {},
   "outputs": [],
   "source": [
    "everything.renovation_main(file = 'Case_study_existing_building_wEOL_4.xlsx', sheet = 'Renovation')"
   ]
  },
  {
   "cell_type": "code",
   "execution_count": 5,
   "metadata": {},
   "outputs": [],
   "source": [
    "mfa = everything.Mfa(2020, 2050)"
   ]
  },
  {
   "cell_type": "code",
   "execution_count": 6,
   "metadata": {},
   "outputs": [
    {
     "name": "stdout",
     "output_type": "stream",
     "text": [
      "the EOL of the products that are not renovation possible is  concrete_foundation_production\n",
      "the EOL of the products that are not renovation possible is  polystyrene foam slab production, 45% recycled\n",
      "the EOL of the products that are not renovation possible is  polyethylene production, low density, granulate\n",
      "the EOL of the products that are not renovation possible is  fibreboard production, hard\n",
      "the EOL of the products that are not renovation possible is  steel production, low-alloyed, hot rolled\n",
      "the EOL of the products that are not renovation possible is  concrete production, 25MPa, for building construction, for interior use, with cement ZN/D, with 50% RC-C aggregates\n",
      "the EOL of the product is  wood wool production\n",
      "the EOL of the products that are not renovation possible is  gypsum plasterboard production\n",
      "the EOL of the products that are not renovation possible is  polyethylene production, high density, granulate, recycled\n",
      "the EOL of the products that are not renovation possible is  polyethylene production, low density, granulate\n",
      "the EOL of the products that are not renovation possible is  concrete production, 25MPa, for building construction, for interior use, with cement ZN/D, with 50% RC-C aggregates\n",
      "the EOL of the product is  window frame production, wood, U=1.5 W/m2K\n",
      "the EOL of the products that are not renovation possible is  door production, outer, wood-glass\n",
      "the EOL of the products that are not renovation possible is  fibre cement corrugated slab production\n",
      "the EOL of the products that are not renovation possible is  market for plywood\n",
      "the EOL of the products that are not renovation possible is  concrete production, 25MPa, for building construction, for interior use, with cement ZN/D, with 50% RC-C aggregates\n",
      "the EOL of the products that are not renovation possible is  concrete production, 25MPa, for building construction, for interior use, with cement ZN/D, with 50% RC-C aggregates\n",
      "the EOL of the products that are not renovation possible is  gypsum plasterboard production\n",
      "the EOL of the products that are not renovation possible is  concrete production, 25MPa, for building construction, for interior use, with cement ZN/D, with 50% RC-C aggregates\n",
      "the EOL of the products that are not renovation possible is  gypsum plasterboard production\n",
      "the EOL of the products that are not renovation possible is  flat glass production, coated\n",
      "the EOL of the products that are not renovation possible is  door production, outer, wood-aluminium\n",
      "the EOL of the products that are not renovation possible is  ceramic tile production\n",
      "the EOL of the product is  wood wool production\n",
      "the EOL of the products that are not renovation possible is  market for concrete slab\n",
      "the EOL of the products that are not renovation possible is  polyethylene production, low density, granulate\n",
      "the EOL of the products that are not renovation possible is  gypsum plasterboard production\n",
      "the EOL of the products that are not renovation possible is  fibre cement roof slate production\n",
      "the EOL of the products that are not renovation possible is  concrete roof tile production\n",
      "the EOL of the product is  wood wool production\n",
      "the EOL of the products that are not renovation possible is  polyethylene production, low density, granulate\n",
      "the EOL of the products that are not renovation possible is  gypsum plasterboard production\n",
      "the EOL of the products that are not renovation possible is  polyethylene production, high density, granulate\n",
      "the EOL of the products that are not renovation possible is  steel production, converter, low-alloyed\n",
      "the EOL of the products that are not renovation possible is  hot water tank production, 600l\n",
      "the EOL of the product is  heat pump production\n",
      "the EOL of the products that are not renovation possible is  ventilation duct production, steel, 100x50 mm\n",
      "the EOL of the products that are not renovation possible is  evacuated tube collector production\n"
     ]
    }
   ],
   "source": [
    "for product in everything.Product.real_instances:\n",
    "    mfa.add_points(product)"
   ]
  },
  {
   "cell_type": "code",
   "execution_count": 7,
   "metadata": {},
   "outputs": [
    {
     "data": {
      "text/plain": [
       "[(2046, heat pump production),\n",
       " (2046, steel production, converter, low-alloyed),\n",
       " (2046, ventilation duct production, steel, 100x50 mm),\n",
       " (2046, polyethylene production, high density, granulate),\n",
       " (2046, hot water tank production, 600l),\n",
       " (2046, evacuated tube collector production),\n",
       " (2050,\n",
       "  concrete production, 25MPa, for building construction, for interior use, with cement ZN/D, with 50% RC-C aggregates),\n",
       " (2050, gypsum plasterboard production),\n",
       " (2050,\n",
       "  concrete production, 25MPa, for building construction, for interior use, with cement ZN/D, with 50% RC-C aggregates),\n",
       " (2050,\n",
       "  concrete production, 25MPa, for building construction, for interior use, with cement ZN/D, with 50% RC-C aggregates),\n",
       " (2050, market for plywood),\n",
       " (2050, fibre cement corrugated slab production),\n",
       " (2050, wood wool production),\n",
       " (2050, door production, outer, wood-glass),\n",
       " (2050, polyethylene production, high density, granulate, recycled),\n",
       " (2050, gypsum plasterboard production),\n",
       " (2050, wood wool production),\n",
       " (2050, polyethylene production, low density, granulate),\n",
       " (2050, fibreboard production, hard),\n",
       " (2050,\n",
       "  concrete production, 25MPa, for building construction, for interior use, with cement ZN/D, with 50% RC-C aggregates),\n",
       " (2050, concrete roof tile production),\n",
       " (2050, ceramic tile production),\n",
       " (2050, door production, outer, wood-aluminium),\n",
       " (2050, concrete_foundation_production),\n",
       " (2050, polyethylene production, low density, granulate),\n",
       " (2050, flat glass production, coated),\n",
       " (2050, steel production, low-alloyed, hot rolled),\n",
       " (2050, heat pump production),\n",
       " (2050, gypsum plasterboard production),\n",
       " (2050, steel production, converter, low-alloyed),\n",
       " (2050,\n",
       "  concrete production, 25MPa, for building construction, for interior use, with cement ZN/D, with 50% RC-C aggregates),\n",
       " (2050, gypsum plasterboard production),\n",
       " (2050, ventilation duct production, steel, 100x50 mm),\n",
       " (2050, polyethylene production, high density, granulate),\n",
       " (2050, hot water tank production, 600l),\n",
       " (2050, polystyrene foam slab production, 45% recycled),\n",
       " (2050, gypsum plasterboard production),\n",
       " (2050, fibre cement roof slate production),\n",
       " (2050, market for concrete slab),\n",
       " (2050, window frame production, wood, U=1.5 W/m2K),\n",
       " (2050, polyethylene production, low density, granulate),\n",
       " (2050, evacuated tube collector production),\n",
       " (2050, polyethylene production, low density, granulate),\n",
       " (2050, wood wool production)]"
      ]
     },
     "execution_count": 7,
     "metadata": {},
     "output_type": "execute_result"
    }
   ],
   "source": [
    "mfa.points"
   ]
  },
  {
   "cell_type": "code",
   "execution_count": null,
   "metadata": {},
   "outputs": [],
   "source": [
    "mfa"
   ]
  },
  {
   "cell_type": "code",
   "execution_count": 8,
   "metadata": {},
   "outputs": [
    {
     "data": {
      "text/plain": [
       "[(2046, heat pump production),\n",
       " (2046, steel production, converter, low-alloyed),\n",
       " (2046, ventilation duct production, steel, 100x50 mm),\n",
       " (2046, polyethylene production, high density, granulate),\n",
       " (2046, hot water tank production, 600l),\n",
       " (2046, evacuated tube collector production),\n",
       " (2050,\n",
       "  concrete production, 25MPa, for building construction, for interior use, with cement ZN/D, with 50% RC-C aggregates),\n",
       " (2050, gypsum plasterboard production),\n",
       " (2050,\n",
       "  concrete production, 25MPa, for building construction, for interior use, with cement ZN/D, with 50% RC-C aggregates),\n",
       " (2050,\n",
       "  concrete production, 25MPa, for building construction, for interior use, with cement ZN/D, with 50% RC-C aggregates),\n",
       " (2050, market for plywood),\n",
       " (2050, fibre cement corrugated slab production),\n",
       " (2050, wood wool production),\n",
       " (2050, door production, outer, wood-glass),\n",
       " (2050, polyethylene production, high density, granulate, recycled),\n",
       " (2050, gypsum plasterboard production),\n",
       " (2050, wood wool production),\n",
       " (2050, polyethylene production, low density, granulate),\n",
       " (2050, fibreboard production, hard),\n",
       " (2050,\n",
       "  concrete production, 25MPa, for building construction, for interior use, with cement ZN/D, with 50% RC-C aggregates),\n",
       " (2050, concrete roof tile production),\n",
       " (2050, ceramic tile production),\n",
       " (2050, door production, outer, wood-aluminium),\n",
       " (2050, concrete_foundation_production),\n",
       " (2050, polyethylene production, low density, granulate),\n",
       " (2050, flat glass production, coated),\n",
       " (2050, steel production, low-alloyed, hot rolled),\n",
       " (2050, heat pump production),\n",
       " (2050, gypsum plasterboard production),\n",
       " (2050, steel production, converter, low-alloyed),\n",
       " (2050,\n",
       "  concrete production, 25MPa, for building construction, for interior use, with cement ZN/D, with 50% RC-C aggregates),\n",
       " (2050, gypsum plasterboard production),\n",
       " (2050, ventilation duct production, steel, 100x50 mm),\n",
       " (2050, polyethylene production, high density, granulate),\n",
       " (2050, hot water tank production, 600l),\n",
       " (2050, polystyrene foam slab production, 45% recycled),\n",
       " (2050, gypsum plasterboard production),\n",
       " (2050, fibre cement roof slate production),\n",
       " (2050, market for concrete slab),\n",
       " (2050, window frame production, wood, U=1.5 W/m2K),\n",
       " (2050, polyethylene production, low density, granulate),\n",
       " (2050, evacuated tube collector production),\n",
       " (2050, polyethylene production, low density, granulate),\n",
       " (2050, wood wool production)]"
      ]
     },
     "execution_count": 8,
     "metadata": {},
     "output_type": "execute_result"
    }
   ],
   "source": [
    "mfa.points"
   ]
  },
  {
   "cell_type": "code",
   "execution_count": 9,
   "metadata": {},
   "outputs": [],
   "source": [
    "clean_list = mfa.clean_list_for_lca()"
   ]
  },
  {
   "cell_type": "code",
   "execution_count": 25,
   "metadata": {},
   "outputs": [
    {
     "data": {
      "text/plain": [
       "'3d3a786bfd99f7e4e312c33c1def0b86'"
      ]
     },
     "execution_count": 25,
     "metadata": {},
     "output_type": "execute_result"
    }
   ],
   "source": [
    "db = everything.bd.Database('ecoinvent-3.9.1-cuttoff')\n",
    "db.search('treatment of waste concrete, inert material landfill')[2]['code']"
   ]
  },
  {
   "cell_type": "code",
   "execution_count": 20,
   "metadata": {},
   "outputs": [
    {
     "name": "stdout",
     "output_type": "stream",
     "text": [
      "(2046, '1fc600ae9ced00237d14ddb9a46739fc')\n",
      "'heat pump production, brine-water, 10kW' (unit, CH, None)\n",
      "(2046, '2c559dbc4e822b444792e122dffe6c20')\n",
      "'treatment of scrap steel, municipal incineration with fly ash extraction' (kilogram, CH, None)\n",
      "(2046, '89cb4e1a47b707fe43b99135b81fcaba')\n",
      "'steel production, converter, low-alloyed' (kilogram, RER, None)\n",
      "(2046, '2c559dbc4e822b444792e122dffe6c20')\n",
      "'treatment of scrap steel, municipal incineration with fly ash extraction' (kilogram, CH, None)\n",
      "(2046, 'adc6bbccf3d5b2955b050510e647852a')\n",
      "'ventilation duct production, steel, 100x50 mm' (meter, RER, None)\n",
      "(2046, '2c559dbc4e822b444792e122dffe6c20')\n",
      "'treatment of scrap steel, municipal incineration with fly ash extraction' (kilogram, CH, None)\n",
      "(2046, '1580abc0d8542f9117775cc18e264f97')\n",
      "'polyethylene production, high density, granulate' (kilogram, RER, None)\n",
      "(2046, '2c559dbc4e822b444792e122dffe6c20')\n",
      "'treatment of scrap steel, municipal incineration with fly ash extraction' (kilogram, CH, None)\n",
      "(2046, '1c2dd8677907f88a0746b958ca4efd43')\n",
      "'hot water tank production, 600l' (unit, CH, None)\n",
      "(2046, '2c559dbc4e822b444792e122dffe6c20')\n",
      "'treatment of scrap steel, municipal incineration with fly ash extraction' (kilogram, CH, None)\n",
      "(2046, '6032fcb0a208bdcdab5633d6be417d0e')\n",
      "'evacuated tube collector production' (square meter, GB, None)\n",
      "(2046, '2c559dbc4e822b444792e122dffe6c20')\n",
      "'treatment of scrap steel, municipal incineration with fly ash extraction' (kilogram, CH, None)\n",
      "(2050, '0b6c18fa9c1c179d47f8fab388a46f29')\n",
      "'concrete production, 25MPa, for building construction, for interior use, with cement ZN/D, with 50% RC-C aggregates' (cubic meter, CH, None)\n",
      "(2050, '9526011b40bb76a51963028784dd315b')\n"
     ]
    },
    {
     "ename": "ActivityDatasetDoesNotExist",
     "evalue": "<Model: ActivityDataset> instance matching query does not exist:\nSQL: SELECT \"t1\".\"id\", \"t1\".\"data\", \"t1\".\"code\", \"t1\".\"database\", \"t1\".\"location\", \"t1\".\"name\", \"t1\".\"product\", \"t1\".\"type\" FROM \"activitydataset\" AS \"t1\" WHERE ((\"t1\".\"database\" = ?) AND (\"t1\".\"code\" = ?)) ORDER BY Random() LIMIT ? OFFSET ?\nParams: ['ecoinvent-3.9.1-cuttoff', '9526011b40bb76a51963028784dd315b', 1, 0]",
     "output_type": "error",
     "traceback": [
      "\u001b[0;31m---------------------------------------------------------------------------\u001b[0m",
      "\u001b[0;31mIndexError\u001b[0m                                Traceback (most recent call last)",
      "File \u001b[0;32m~/.local/lib/python3.10/site-packages/peewee.py:7072\u001b[0m, in \u001b[0;36mBaseModelSelect.get\u001b[0;34m(self, database)\u001b[0m\n\u001b[1;32m   7071\u001b[0m \u001b[39mtry\u001b[39;00m:\n\u001b[0;32m-> 7072\u001b[0m     \u001b[39mreturn\u001b[39;00m clone\u001b[39m.\u001b[39;49mexecute(database)[\u001b[39m0\u001b[39;49m]\n\u001b[1;32m   7073\u001b[0m \u001b[39mexcept\u001b[39;00m \u001b[39mIndexError\u001b[39;00m:\n",
      "File \u001b[0;32m~/.local/lib/python3.10/site-packages/peewee.py:4436\u001b[0m, in \u001b[0;36mCursorWrapper.__getitem__\u001b[0;34m(self, item)\u001b[0m\n\u001b[1;32m   4435\u001b[0m     \u001b[39mself\u001b[39m\u001b[39m.\u001b[39mfill_cache(item \u001b[39mif\u001b[39;00m item \u001b[39m>\u001b[39m \u001b[39m0\u001b[39m \u001b[39melse\u001b[39;00m \u001b[39m0\u001b[39m)\n\u001b[0;32m-> 4436\u001b[0m     \u001b[39mreturn\u001b[39;00m \u001b[39mself\u001b[39;49m\u001b[39m.\u001b[39;49mrow_cache[item]\n\u001b[1;32m   4437\u001b[0m \u001b[39melse\u001b[39;00m:\n",
      "\u001b[0;31mIndexError\u001b[0m: list index out of range",
      "\nDuring handling of the above exception, another exception occurred:\n",
      "\u001b[0;31mActivityDatasetDoesNotExist\u001b[0m               Traceback (most recent call last)",
      "\u001b[1;32m/home/haithamth/Desktop/code/MCC/test.ipynb Cell 10\u001b[0m line \u001b[0;36m7\n\u001b[1;32m      <a href='vscode-notebook-cell:/home/haithamth/Desktop/code/MCC/test.ipynb#X51sZmlsZQ%3D%3D?line=3'>4</a>\u001b[0m \u001b[39mfor\u001b[39;00m i \u001b[39min\u001b[39;00m clean_list:\n\u001b[1;32m      <a href='vscode-notebook-cell:/home/haithamth/Desktop/code/MCC/test.ipynb#X51sZmlsZQ%3D%3D?line=4'>5</a>\u001b[0m     \u001b[39m# loop the list read the second element of each tuple, get the name of the activity with everything.bd.get_activity('code')\u001b[39;00m\n\u001b[1;32m      <a href='vscode-notebook-cell:/home/haithamth/Desktop/code/MCC/test.ipynb#X51sZmlsZQ%3D%3D?line=5'>6</a>\u001b[0m     \u001b[39mprint\u001b[39m(i)\n\u001b[0;32m----> <a href='vscode-notebook-cell:/home/haithamth/Desktop/code/MCC/test.ipynb#X51sZmlsZQ%3D%3D?line=6'>7</a>\u001b[0m     activity \u001b[39m=\u001b[39m db\u001b[39m.\u001b[39;49mget(\u001b[39mstr\u001b[39;49m(i[\u001b[39m1\u001b[39;49m]))\n\u001b[1;32m      <a href='vscode-notebook-cell:/home/haithamth/Desktop/code/MCC/test.ipynb#X51sZmlsZQ%3D%3D?line=7'>8</a>\u001b[0m     \u001b[39mprint\u001b[39m(activity)\n\u001b[1;32m      <a href='vscode-notebook-cell:/home/haithamth/Desktop/code/MCC/test.ipynb#X51sZmlsZQ%3D%3D?line=8'>9</a>\u001b[0m     hr_clean_list\u001b[39m.\u001b[39mappend((i[\u001b[39m0\u001b[39m], activity[\u001b[39m'\u001b[39m\u001b[39mname\u001b[39m\u001b[39m'\u001b[39m]))\n",
      "File \u001b[0;32m~/.local/lib/python3.10/site-packages/bw2data/backends/peewee/database.py:133\u001b[0m, in \u001b[0;36mSQLiteBackend.get\u001b[0;34m(self, code)\u001b[0m\n\u001b[1;32m    130\u001b[0m \u001b[39mdef\u001b[39;00m \u001b[39mget\u001b[39m(\u001b[39mself\u001b[39m, code):\n\u001b[1;32m    131\u001b[0m     \u001b[39mreturn\u001b[39;00m Activity(\n\u001b[1;32m    132\u001b[0m         \u001b[39mself\u001b[39;49m\u001b[39m.\u001b[39;49m_get_queryset(filters\u001b[39m=\u001b[39;49m\u001b[39mFalse\u001b[39;49;00m)\u001b[39m.\u001b[39;49mwhere(\n\u001b[0;32m--> 133\u001b[0m             ActivityDataset\u001b[39m.\u001b[39;49mcode \u001b[39m==\u001b[39;49m code)\u001b[39m.\u001b[39;49mget()\n\u001b[1;32m    134\u001b[0m     )\n",
      "File \u001b[0;32m~/.local/lib/python3.10/site-packages/peewee.py:7075\u001b[0m, in \u001b[0;36mBaseModelSelect.get\u001b[0;34m(self, database)\u001b[0m\n\u001b[1;32m   7073\u001b[0m \u001b[39mexcept\u001b[39;00m \u001b[39mIndexError\u001b[39;00m:\n\u001b[1;32m   7074\u001b[0m     sql, params \u001b[39m=\u001b[39m clone\u001b[39m.\u001b[39msql()\n\u001b[0;32m-> 7075\u001b[0m     \u001b[39mraise\u001b[39;00m \u001b[39mself\u001b[39m\u001b[39m.\u001b[39mmodel\u001b[39m.\u001b[39mDoesNotExist(\u001b[39m'\u001b[39m\u001b[39m%s\u001b[39;00m\u001b[39m instance matching query does \u001b[39m\u001b[39m'\u001b[39m\n\u001b[1;32m   7076\u001b[0m                                   \u001b[39m'\u001b[39m\u001b[39mnot exist:\u001b[39m\u001b[39m\\n\u001b[39;00m\u001b[39mSQL: \u001b[39m\u001b[39m%s\u001b[39;00m\u001b[39m\\n\u001b[39;00m\u001b[39mParams: \u001b[39m\u001b[39m%s\u001b[39;00m\u001b[39m'\u001b[39m \u001b[39m%\u001b[39m\n\u001b[1;32m   7077\u001b[0m                                   (clone\u001b[39m.\u001b[39mmodel, sql, params))\n",
      "\u001b[0;31mActivityDatasetDoesNotExist\u001b[0m: <Model: ActivityDataset> instance matching query does not exist:\nSQL: SELECT \"t1\".\"id\", \"t1\".\"data\", \"t1\".\"code\", \"t1\".\"database\", \"t1\".\"location\", \"t1\".\"name\", \"t1\".\"product\", \"t1\".\"type\" FROM \"activitydataset\" AS \"t1\" WHERE ((\"t1\".\"database\" = ?) AND (\"t1\".\"code\" = ?)) ORDER BY Random() LIMIT ? OFFSET ?\nParams: ['ecoinvent-3.9.1-cuttoff', '9526011b40bb76a51963028784dd315b', 1, 0]"
     ]
    }
   ],
   "source": [
    "clean_list\n",
    "hr_clean_list = []\n",
    "db = everything.bd.Database('ecoinvent-3.9.1-cuttoff')\n",
    "for i in clean_list:\n",
    "    # loop the list read the second element of each tuple, get the name of the activity with everything.bd.get_activity('code')\n",
    "    print(i)\n",
    "    activity = db.get(str(i[1]))\n",
    "    print(activity)\n",
    "    hr_clean_list.append( (i[0], activity['name']))\n",
    "hr_clean_list"
   ]
  },
  {
   "cell_type": "code",
   "execution_count": 9,
   "metadata": {},
   "outputs": [],
   "source": [
    "lca2 = everything.ProLCA(activities_and_years=clean_list, yearly_databases=mfa.create_time_line_dict(), \n",
    "                         methods=[('EF v3.0 EN15804', 'climate change', 'global warming potential (GWP100)'), ('EF v3.0 EN15804', 'acidification', 'accumulated exceedance (AE)')],\n",
    "                         products=everything.Product.real_instances)"
   ]
  },
  {
   "cell_type": "code",
   "execution_count": 10,
   "metadata": {},
   "outputs": [],
   "source": [
    "# renovation = lca2.give_me_embodied()\n",
    "\n",
    "# # pickle this\n",
    "# import pickle\n",
    "# with open('renovation.pickle', 'wb') as f:\n",
    "#     pickle.dump(renovation, f)\n",
    "\n",
    "# get the pickle\n",
    "\n",
    "import pickle\n",
    "\n",
    "with open('renovation.pickle', 'rb') as f:\n",
    "    renovation = pickle.load(f)"
   ]
  },
  {
   "cell_type": "code",
   "execution_count": 11,
   "metadata": {},
   "outputs": [],
   "source": [
    "production = lca2.production_lca()"
   ]
  },
  {
   "cell_type": "code",
   "execution_count": 19,
   "metadata": {},
   "outputs": [
    {
     "data": {
      "text/plain": [
       "{(2020,\n",
       "  concrete_foundation_production,\n",
       "  'ecoinvent-3.9.1-cuttoff'): [13872.880638500286, 43.99707920471239],\n",
       " (2020,\n",
       "  polystyrene foam slab production, 45% recycled,\n",
       "  'ecoinvent-3.9.1-cuttoff'): [3419.038665225468, 12.786087097917745],\n",
       " (2020,\n",
       "  polyethylene production, low density, granulate,\n",
       "  'ecoinvent-3.9.1-cuttoff'): [319.209695386447, 1.1410022020801207],\n",
       " (2020,\n",
       "  fibreboard production, hard,\n",
       "  'ecoinvent-3.9.1-cuttoff'): [202.85713958731665, 4.3870538907674375],\n",
       " (2020,\n",
       "  steel production, low-alloyed, hot rolled,\n",
       "  'ecoinvent-3.9.1-cuttoff'): [1819.3230344217818, 7.737518979739819],\n",
       " (2020,\n",
       "  concrete production, 25MPa, for building construction, for interior use, with cement ZN/D, with 50% RC-C aggregates,\n",
       "  'ecoinvent-3.9.1-cuttoff'): [0.0, 0.0],\n",
       " (2020,\n",
       "  glass wool mat production,\n",
       "  'ecoinvent-3.9.1-cuttoff'): [2473.579532791892, 26.075566322188127],\n",
       " (2020,\n",
       "  gypsum plasterboard production,\n",
       "  'ecoinvent-3.9.1-cuttoff'): [494.72569017911144, 3.0273015047543606],\n",
       " (2020,\n",
       "  polyethylene production, high density, granulate, recycled,\n",
       "  'ecoinvent-3.9.1-cuttoff'): [669.8946874936894, 2.277551748053254],\n",
       " (2020,\n",
       "  polyethylene production, low density, granulate,\n",
       "  'ecoinvent-3.9.1-cuttoff'): [466.69265591365905, 1.668174105583645],\n",
       " (2020,\n",
       "  concrete production, 25MPa, for building construction, for interior use, with cement ZN/D, with 50% RC-C aggregates,\n",
       "  'ecoinvent-3.9.1-cuttoff'): [0.0, 0.0],\n",
       " (2020,\n",
       "  window frame production, aluminium, U=1.6 W/m2K,\n",
       "  'ecoinvent-3.9.1-cuttoff'): [29578.91550179578, 182.39429941944724],\n",
       " (2020,\n",
       "  door production, outer, wood-glass,\n",
       "  'ecoinvent-3.9.1-cuttoff'): [3491.202045610329, 38.18139089592717],\n",
       " (2020,\n",
       "  fibre cement corrugated slab production,\n",
       "  'ecoinvent-3.9.1-cuttoff'): [315.1346363753568, 1.0932420431949843],\n",
       " (2020, market for plywood, 'ecoinvent-3.9.1-cuttoff'): [-1233.554040875128,\n",
       "  6.944803002060514],\n",
       " (2020,\n",
       "  concrete production, 25MPa, for building construction, for interior use, with cement ZN/D, with 50% RC-C aggregates,\n",
       "  'ecoinvent-3.9.1-cuttoff'): [493297.1263328028, 1132.7385858990183],\n",
       " (2020,\n",
       "  concrete production, 25MPa, for building construction, for interior use, with cement ZN/D, with 50% RC-C aggregates,\n",
       "  'ecoinvent-3.9.1-cuttoff'): [26225.923172207582, 60.22154507294904],\n",
       " (2020,\n",
       "  gypsum plasterboard production,\n",
       "  'ecoinvent-3.9.1-cuttoff'): [50.96067692212074, 0.3118361081958494],\n",
       " (2020,\n",
       "  concrete production, 25MPa, for building construction, for interior use, with cement ZN/D, with 50% RC-C aggregates,\n",
       "  'ecoinvent-3.9.1-cuttoff'): [103119.61630320783, 236.78947699146144],\n",
       " (2020,\n",
       "  gypsum plasterboard production,\n",
       "  'ecoinvent-3.9.1-cuttoff'): [308.15064972162935, 1.8856205439400093],\n",
       " (2020,\n",
       "  flat glass production, coated,\n",
       "  'ecoinvent-3.9.1-cuttoff'): [69.59349785625527, 0.6825228267742771],\n",
       " (2020,\n",
       "  door production, outer, wood-aluminium,\n",
       "  'ecoinvent-3.9.1-cuttoff'): [845.2930875167764, 11.016785420577687],\n",
       " (2020,\n",
       "  ceramic tile production,\n",
       "  'ecoinvent-3.9.1-cuttoff'): [1006.0183664311254, 9.343638936791754],\n",
       " (2020,\n",
       "  glass wool mat production,\n",
       "  'ecoinvent-3.9.1-cuttoff'): [748.0583134491606, 7.885755720600122],\n",
       " (2020,\n",
       "  market for concrete slab,\n",
       "  'ecoinvent-3.9.1-cuttoff'): [86589.78120190768, 389.16687382111525],\n",
       " (2020,\n",
       "  polyethylene production, low density, granulate,\n",
       "  'ecoinvent-3.9.1-cuttoff'): [1414.2201694336422, 5.05507304720065],\n",
       " (2020,\n",
       "  gypsum plasterboard production,\n",
       "  'ecoinvent-3.9.1-cuttoff'): [122.55832227843504, 0.7499529560083479],\n",
       " (2020,\n",
       "  fibre cement roof slate production,\n",
       "  'ecoinvent-3.9.1-cuttoff'): [443.35029322229525, 1.707242281206986],\n",
       " (2020,\n",
       "  concrete roof tile production,\n",
       "  'ecoinvent-3.9.1-cuttoff'): [1509.8048873844864, 6.681030769262151],\n",
       " (2020,\n",
       "  polystyrene foam slab production,\n",
       "  'ecoinvent-3.9.1-cuttoff'): [2850.7024227211123, 10.660695311190786],\n",
       " (2020,\n",
       "  polyethylene production, low density, granulate,\n",
       "  'ecoinvent-3.9.1-cuttoff'): [321.2300099148698, 1.1482237350154518],\n",
       " (2020,\n",
       "  gypsum plasterboard production,\n",
       "  'ecoinvent-3.9.1-cuttoff'): [135.05281323094175, 0.8264086392432002],\n",
       " (2020,\n",
       "  polyethylene production, high density, granulate,\n",
       "  'ecoinvent-3.9.1-cuttoff'): [35.99434141733632, 0.12237591481639609],\n",
       " (2020,\n",
       "  steel production, converter, low-alloyed,\n",
       "  'ecoinvent-3.9.1-cuttoff'): [213.00371057610957, 0.865861825467442],\n",
       " (2020,\n",
       "  hot water tank production, 600l,\n",
       "  'ecoinvent-3.9.1-cuttoff'): [815.158280906364, 3.972919616696176],\n",
       " (2020, gas boiler production, 'ecoinvent-3.9.1-cuttoff'): [521.6994460653826,\n",
       "  5.384734800898804],\n",
       " (2020,\n",
       "  ventilation duct production, steel, 100x50 mm,\n",
       "  'ecoinvent-3.9.1-cuttoff'): [1368.4914649285477, 46.16743218228488],\n",
       " (2020,\n",
       "  evacuated tube collector production,\n",
       "  'ecoinvent-3.9.1-cuttoff'): [811.4285583492666, 17.54821556306975]}"
      ]
     },
     "execution_count": 19,
     "metadata": {},
     "output_type": "execute_result"
    }
   ],
   "source": [
    "production"
   ]
  },
  {
   "cell_type": "code",
   "execution_count": 13,
   "metadata": {},
   "outputs": [
    {
     "ename": "AttributeError",
     "evalue": "type object 'Product' has no attribute 'instances'",
     "output_type": "error",
     "traceback": [
      "\u001b[0;31m---------------------------------------------------------------------------\u001b[0m",
      "\u001b[0;31mAttributeError\u001b[0m                            Traceback (most recent call last)",
      "\u001b[1;32m/home/haithamth/Desktop/code/MCC/test.ipynb Cell 13\u001b[0m line \u001b[0;36m2\n\u001b[1;32m      <a href='vscode-notebook-cell:/home/haithamth/Desktop/code/MCC/test.ipynb#X24sZmlsZQ%3D%3D?line=0'>1</a>\u001b[0m data \u001b[39m=\u001b[39m {}\n\u001b[0;32m----> <a href='vscode-notebook-cell:/home/haithamth/Desktop/code/MCC/test.ipynb#X24sZmlsZQ%3D%3D?line=1'>2</a>\u001b[0m \u001b[39mfor\u001b[39;00m product \u001b[39min\u001b[39;00m everything\u001b[39m.\u001b[39;49mProduct\u001b[39m.\u001b[39;49minstances:\n\u001b[1;32m      <a href='vscode-notebook-cell:/home/haithamth/Desktop/code/MCC/test.ipynb#X24sZmlsZQ%3D%3D?line=2'>3</a>\u001b[0m     product\u001b[39m.\u001b[39membodied_impacts \u001b[39m=\u001b[39m everything\u001b[39m.\u001b[39mGiveMeName\u001b[39m.\u001b[39maggregator(_11, product)\n\u001b[1;32m      <a href='vscode-notebook-cell:/home/haithamth/Desktop/code/MCC/test.ipynb#X24sZmlsZQ%3D%3D?line=3'>4</a>\u001b[0m     \u001b[39mif\u001b[39;00m \u001b[39mnot\u001b[39;00m \u001b[39mlen\u001b[39m(product\u001b[39m.\u001b[39membodied_impacts) \u001b[39m==\u001b[39m \u001b[39m0\u001b[39m:\n",
      "\u001b[0;31mAttributeError\u001b[0m: type object 'Product' has no attribute 'instances'"
     ]
    }
   ],
   "source": [
    "data = {}\n",
    "for product in everything.Product.instances:\n",
    "    product.embodied_impacts = everything.GiveMeName.aggregator(_11, product)\n",
    "    if not len(product.embodied_impacts) == 0:\n",
    "        data[product.name] = product.embodied_impacts"
   ]
  },
  {
   "cell_type": "code",
   "execution_count": null,
   "metadata": {},
   "outputs": [],
   "source": [
    "from L420A import everything"
   ]
  },
  {
   "cell_type": "code",
   "execution_count": null,
   "metadata": {},
   "outputs": [],
   "source": [
    "everything.setup()"
   ]
  },
  {
   "cell_type": "code",
   "execution_count": null,
   "metadata": {},
   "outputs": [],
   "source": [
    "# data\n",
    "# pickle this data\n",
    "\n",
    "# Path: test.ipynb\n",
    "\n",
    "import pickle\n",
    "# with open('data.pickle', 'wb') as handle:\n",
    "#     pickle.dump(data, handle, protocol=pickle.HIGHEST_PROTOCOL)\n",
    "    \n",
    "with open('data.pickle', 'rb') as handle:\n",
    "    b = pickle.load(handle)\n",
    "    "
   ]
  },
  {
   "cell_type": "code",
   "execution_count": null,
   "metadata": {},
   "outputs": [],
   "source": [
    "(b)"
   ]
  },
  {
   "cell_type": "code",
   "execution_count": null,
   "metadata": {},
   "outputs": [],
   "source": [
    "everything.GiveMeName.poop_to_excel(b, 'test.xlsx')"
   ]
  },
  {
   "cell_type": "code",
   "execution_count": null,
   "metadata": {},
   "outputs": [],
   "source": [
    "db = everything.bd.Database('ecoinvent-3.9.1-cuttoff')"
   ]
  },
  {
   "cell_type": "code",
   "execution_count": null,
   "metadata": {},
   "outputs": [],
   "source": [
    "for a in db:\n",
    "    if a['code'] == '9fda2f5ef0c1309141b798483b169b23':\n",
    "        print(a)"
   ]
  },
  {
   "cell_type": "code",
   "execution_count": null,
   "metadata": {},
   "outputs": [],
   "source": [
    "db.search('treatment of scrap steel fly ash')[0]['code']"
   ]
  }
 ],
 "metadata": {
  "kernelspec": {
   "display_name": "polca",
   "language": "python",
   "name": "python3"
  },
  "language_info": {
   "codemirror_mode": {
    "name": "ipython",
    "version": 3
   },
   "file_extension": ".py",
   "mimetype": "text/x-python",
   "name": "python",
   "nbconvert_exporter": "python",
   "pygments_lexer": "ipython3",
   "version": "3.10.12"
  }
 },
 "nbformat": 4,
 "nbformat_minor": 2
}
